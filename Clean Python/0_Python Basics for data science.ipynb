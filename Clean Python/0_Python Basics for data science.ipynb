{
 "cells": [
  {
   "cell_type": "code",
   "execution_count": null,
   "id": "4d9a493a",
   "metadata": {},
   "outputs": [],
   "source": [
    "# about\n",
    "created by\n",
    "created on\n"
   ]
  },
  {
   "cell_type": "markdown",
   "id": "85ee97a9",
   "metadata": {},
   "source": [
    "# Python lists\n",
    "\n",
    "## Subsetting lists\n",
    "* indexes start from 0\n",
    "* can use negative indexes to access elements\n",
    "    * last item in the list will have an index `-1` \n",
    "* list slicing\n",
    "    * `sliceable[start_index:end_index:step]`\n",
    "    * end index will not be included\n",
    "    * default value is the end of the list\n",
    "    * step: amount by which the index increases, default is `1`\n",
    "        * if you set a negative value for the step, we'll move backwards\n",
    "\n",
    "## List manipulation\n",
    "* We can delete an element from a list with the `remove(value)` method. This method will delete the first element of the list with the passed value.\n",
    "    * e.g. `fruits.remove(\"mango\")`\n",
    "    \n",
    "## Behind the scenes\n",
    "* When you create a new list my_list, you’re storing the list in your computer memory, and the address of that list is stored in the my_list variable. \n",
    "* The variable my_list doesn’t contain the elements of the list. It contains a reference to the list.\n",
    "*  If we copy a list with the equal sign only like this `my_list_copy = my_list`, you’ll have the reference copied in the my_list_copy variable instead of the list values.\n",
    "* How to copy the actual values?\n",
    "    * use `list(my_list` or slicing `[:]`\n",
    "    \n",
    "# Python dictionaries\n",
    "\n",
    "* Example\n",
    "\n",
    "```\n",
    "movies = [\"Ex Machina\", \"Mad Max: Fury Road\", \"1408\"]\n",
    "ratings = [7.7, 8.1, 6.8]\n",
    "\n",
    "movie_choice_index = movies.index(\"Ex Machina\")\n",
    "print(ratings[movie_choice_index]) # 7.7\n",
    "\n",
    "\n",
    "ratings = {\n",
    "    \"Ex Machina\": 7.7,\n",
    "    \"Mad Max: Fury Road\": 8.1,\n",
    "    \"1408\" : 6.8\n",
    "}\n",
    "\n",
    "print(ratings[\"Ex Machina\"]) # 7.7\n",
    "```\n",
    "\n",
    "* dictionaries can be more intuitive and convenient\n",
    "\n",
    "## dictionaries operations\n",
    "* you can <b> add, update </b> and <b> delete </b> from dictionaries\n",
    "* to add or update\n",
    "    * `our_dict[key] = value`\n",
    "* to delete a key-value pair\n",
    "    * `del(our_dict[key])`\n",
    "\n",
    "```\n",
    "ratings = {\n",
    "    \"Ex Machina\": 7.7,\n",
    "    \"Mad Max: Fury Road\": 8.1,\n",
    "    \"1408\" : 6.8\n",
    "}\n",
    "\n",
    "print(ratings[\"Ex Machina\"]) # 7.7\n",
    "\n",
    "```\n",
    "* how to check if a given key is in our dict:\n",
    "   `print(\"Ex Machina\" in ratings) #true`"
   ]
  },
  {
   "cell_type": "code",
   "execution_count": null,
   "id": "556d0cbb",
   "metadata": {},
   "outputs": [],
   "source": []
  },
  {
   "cell_type": "code",
   "execution_count": null,
   "id": "8429b8ff",
   "metadata": {},
   "outputs": [],
   "source": []
  },
  {
   "cell_type": "code",
   "execution_count": null,
   "id": "07377ce4",
   "metadata": {},
   "outputs": [],
   "source": []
  },
  {
   "cell_type": "code",
   "execution_count": null,
   "id": "e68eee48",
   "metadata": {},
   "outputs": [],
   "source": []
  },
  {
   "cell_type": "code",
   "execution_count": null,
   "id": "07d0bcf4",
   "metadata": {},
   "outputs": [],
   "source": []
  },
  {
   "cell_type": "code",
   "execution_count": null,
   "id": "472e32d8",
   "metadata": {},
   "outputs": [],
   "source": []
  },
  {
   "cell_type": "code",
   "execution_count": null,
   "id": "033cfbeb",
   "metadata": {},
   "outputs": [],
   "source": []
  }
 ],
 "metadata": {
  "kernelspec": {
   "display_name": "Python 3",
   "language": "python",
   "name": "python3"
  },
  "language_info": {
   "codemirror_mode": {
    "name": "ipython",
    "version": 3
   },
   "file_extension": ".py",
   "mimetype": "text/x-python",
   "name": "python",
   "nbconvert_exporter": "python",
   "pygments_lexer": "ipython3",
   "version": "3.8.8"
  }
 },
 "nbformat": 4,
 "nbformat_minor": 5
}
