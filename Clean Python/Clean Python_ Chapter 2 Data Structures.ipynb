{
 "cells": [
  {
   "cell_type": "code",
   "execution_count": null,
   "id": "fc53aa3c",
   "metadata": {},
   "outputs": [],
   "source": []
  },
  {
   "cell_type": "markdown",
   "id": "0e49226b",
   "metadata": {},
   "source": [
    "# 1. Use Sets for speed\n",
    "\n",
    "* Other characteristics\n",
    "    * They don’t allow duplicates.\n",
    "    * You can’t access set elements using an index.\n",
    "    * Sets can access elements in O(1) time since they use hashtables.\n",
    "    * Sets don’t allow some common operations that lists do like slicing and lookups.\n",
    "    * Sets can sort the elements at insertion time."
   ]
  },
  {
   "cell_type": "code",
   "execution_count": 2,
   "id": "9f32b9e0",
   "metadata": {},
   "outputs": [
    {
     "name": "stdout",
     "output_type": "stream",
     "text": [
      "Found the Data\n"
     ]
    }
   ],
   "source": [
    "# example: Accessing data\n",
    "data = {\"first\", \"second\", \"third\", \"fourth\", \"fifth\"}\n",
    "if \"fourth\" in data:\n",
    "    print(\"Found the Data\")"
   ]
  },
  {
   "cell_type": "markdown",
   "id": "b3838072",
   "metadata": {},
   "source": [
    "* implemented using hashtables\n",
    "    * when new item added, the positioning of the item is determined by the hash of the object "
   ]
  },
  {
   "cell_type": "code",
   "execution_count": 4,
   "id": "5d724479",
   "metadata": {},
   "outputs": [
    {
     "data": {
      "text/plain": [
       "{'fifth', 'first', 'fourth', 'second', 'third'}"
      ]
     },
     "execution_count": 4,
     "metadata": {},
     "output_type": "execute_result"
    }
   ],
   "source": [
    "# example: Removing duplicates\n",
    "data = [\"first\", \"second\", \"third\", \"fourth\", \"fourth\",\n",
    "\"fifth\"]\n",
    "no_duplicate_data = set(data)\n",
    "no_duplicate_data"
   ]
  },
  {
   "cell_type": "markdown",
   "id": "29205695",
   "metadata": {},
   "source": [
    "* also used for dictionaries\n",
    "* can use sets as keys for other data structures such as lists\n"
   ]
  }
 ],
 "metadata": {
  "kernelspec": {
   "display_name": "Python 3",
   "language": "python",
   "name": "python3"
  },
  "language_info": {
   "codemirror_mode": {
    "name": "ipython",
    "version": 3
   },
   "file_extension": ".py",
   "mimetype": "text/x-python",
   "name": "python",
   "nbconvert_exporter": "python",
   "pygments_lexer": "ipython3",
   "version": "3.8.8"
  }
 },
 "nbformat": 4,
 "nbformat_minor": 5
}
