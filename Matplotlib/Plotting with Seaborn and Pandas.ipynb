{
 "cells": [
  {
   "cell_type": "code",
   "execution_count": null,
   "id": "07b509f4",
   "metadata": {},
   "outputs": [],
   "source": [
    "# about"
   ]
  },
  {
   "cell_type": "code",
   "execution_count": 1,
   "id": "47c1cc2c",
   "metadata": {},
   "outputs": [],
   "source": [
    "import pandas as pd\n",
    "import numpy as np\n",
    "import matplotlib.pyplot as plt"
   ]
  },
  {
   "cell_type": "markdown",
   "id": "714d4a9d",
   "metadata": {},
   "source": [
    "## Pandas plot function\n",
    "\n",
    "* pandas has inbuilt .plot function\n",
    "* Key parameters\n",
    "    * kind — ‘bar’,’barh’,’pie’,’scatter’,’kde’ etc which can be found in the docs.\n",
    "    * color — Which accepts and array of hex codes corresponding sequential to each data series / column.\n",
    "    * linestyle — ‘solid’, ‘dotted’, ‘dashed’ (applies to line graphs only)\n",
    "    * xlim, ylim — specify a tuple (lower limit, upper limit) for which the plot will be drawn\n",
    "    * legend— a boolean value to display or hide the legend\n",
    "    * labels — a list corresponding to the number of columns in the dataframe, a descriptive name can be provided here for the legend\n",
    "    * title — The string title of the plot\n"
   ]
  },
  {
   "cell_type": "code",
   "execution_count": null,
   "id": "1cc34e4b",
   "metadata": {},
   "outputs": [],
   "source": []
  },
  {
   "cell_type": "code",
   "execution_count": null,
   "id": "f0047d5a",
   "metadata": {},
   "outputs": [],
   "source": []
  },
  {
   "cell_type": "code",
   "execution_count": null,
   "id": "76428fe3",
   "metadata": {},
   "outputs": [],
   "source": []
  }
 ],
 "metadata": {
  "kernelspec": {
   "display_name": "Python 3",
   "language": "python",
   "name": "python3"
  },
  "language_info": {
   "codemirror_mode": {
    "name": "ipython",
    "version": 3
   },
   "file_extension": ".py",
   "mimetype": "text/x-python",
   "name": "python",
   "nbconvert_exporter": "python",
   "pygments_lexer": "ipython3",
   "version": "3.8.8"
  }
 },
 "nbformat": 4,
 "nbformat_minor": 5
}
