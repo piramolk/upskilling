{
 "cells": [
  {
   "cell_type": "code",
   "execution_count": 1,
   "id": "7e7c6557",
   "metadata": {},
   "outputs": [
    {
     "ename": "SyntaxError",
     "evalue": "invalid syntax (<ipython-input-1-bdb823e7cc54>, line 2)",
     "output_type": "error",
     "traceback": [
      "\u001b[0;36m  File \u001b[0;32m\"<ipython-input-1-bdb823e7cc54>\"\u001b[0;36m, line \u001b[0;32m2\u001b[0m\n\u001b[0;31m    created by\u001b[0m\n\u001b[0m            ^\u001b[0m\n\u001b[0;31mSyntaxError\u001b[0m\u001b[0;31m:\u001b[0m invalid syntax\n"
     ]
    }
   ],
   "source": [
    "# about\n",
    "created by\n",
    "created on : 12 aug"
   ]
  },
  {
   "cell_type": "code",
   "execution_count": null,
   "id": "761a09c6",
   "metadata": {},
   "outputs": [],
   "source": [
    "import pandas as pd\n",
    "import numpy as np\n",
    "import matplotlib.pyplot as plt"
   ]
  },
  {
   "cell_type": "markdown",
   "id": "1e80168b",
   "metadata": {},
   "source": [
    "# All the groupby() you should know\n",
    "\n",
    "* Pandas’ groupby() allows us to split data into separate groups to perform computations for better analysis.\n",
    "* groupby process -> split-apply-combine\n",
    "\n",
    "\n",
    "2. The “group by” process: split-apply-combine\n",
    "\n",
    "3. Aggregation\n",
    "\n",
    "4. Transformation\n",
    "5. Filtration\n",
    "6. Grouping by multiple categories\n",
    "7. Resetting index with as_index\n",
    "8. Handling missing values\n",
    "\n",
    "\n"
   ]
  },
  {
   "cell_type": "code",
   "execution_count": null,
   "id": "8d9ba272",
   "metadata": {},
   "outputs": [],
   "source": []
  },
  {
   "cell_type": "markdown",
   "id": "bcf588ba",
   "metadata": {},
   "source": [
    "## 1. What is Pandas groupby() and how to access groups information?"
   ]
  },
  {
   "cell_type": "code",
   "execution_count": 2,
   "id": "6b0ffd85",
   "metadata": {},
   "outputs": [
    {
     "ename": "NameError",
     "evalue": "name 'pd' is not defined",
     "output_type": "error",
     "traceback": [
      "\u001b[0;31m---------------------------------------------------------------------------\u001b[0m",
      "\u001b[0;31mNameError\u001b[0m                                 Traceback (most recent call last)",
      "\u001b[0;32m<ipython-input-2-e2e0e5f07c3a>\u001b[0m in \u001b[0;36m<module>\u001b[0;34m\u001b[0m\n\u001b[0;32m----> 1\u001b[0;31m \u001b[0mdf\u001b[0m \u001b[0;34m=\u001b[0m \u001b[0mpd\u001b[0m\u001b[0;34m.\u001b[0m\u001b[0mread_csv\u001b[0m\u001b[0;34m(\u001b[0m\u001b[0;34m'titanic dataset/train.csv'\u001b[0m\u001b[0;34m)\u001b[0m\u001b[0;34m\u001b[0m\u001b[0;34m\u001b[0m\u001b[0m\n\u001b[0m\u001b[1;32m      2\u001b[0m \u001b[0mdf\u001b[0m\u001b[0;34m.\u001b[0m\u001b[0mhead\u001b[0m\u001b[0;34m(\u001b[0m\u001b[0;34m)\u001b[0m\u001b[0;34m\u001b[0m\u001b[0;34m\u001b[0m\u001b[0m\n",
      "\u001b[0;31mNameError\u001b[0m: name 'pd' is not defined"
     ]
    }
   ],
   "source": [
    "df = pd.read_csv('titanic dataset/train.csv')\n",
    "df.head()"
   ]
  },
  {
   "cell_type": "markdown",
   "id": "f65a1f7c",
   "metadata": {},
   "source": [
    "* The role of groupby() is anytime we want to analyze data by some categories. \n",
    "* The simplest call must have a column name. In our example, let’s use the Sex column."
   ]
  },
  {
   "cell_type": "code",
   "execution_count": null,
   "id": "72ea0c18",
   "metadata": {},
   "outputs": [],
   "source": [
    "df_groupby_sex = df.groupby('Sex')"
   ]
  },
  {
   "cell_type": "markdown",
   "id": "8616ba5d",
   "metadata": {},
   "source": [
    "* The statement literally means we would like to analyze our data by different Sex values. \n",
    "* By calling the type() function on the result, we can see that it returns a DataFrameGroupBy object"
   ]
  },
  {
   "cell_type": "code",
   "execution_count": null,
   "id": "b04ebcb3",
   "metadata": {},
   "outputs": [],
   "source": [
    "type(df_groupby_sex)"
   ]
  },
  {
   "cell_type": "markdown",
   "id": "2660fe7d",
   "metadata": {},
   "source": [
    "* the `groupby()` function returns a dataframegroupby object\n",
    "    * it essentially describes how the rows of the OG dataset have been split\n",
    "* there are attributes and methods available for us to access the groups info\n",
    "\n",
    "### Example\n",
    "* we can use `ngroups` attribute to get the number of groups \n"
   ]
  },
  {
   "cell_type": "code",
   "execution_count": null,
   "id": "4a7ebcb1",
   "metadata": {},
   "outputs": [],
   "source": [
    "df_groupby_sex.ngroups"
   ]
  },
  {
   "cell_type": "markdown",
   "id": "2af1c789",
   "metadata": {},
   "source": [
    "* we can use the `groups` attribute to get the groups object .\n",
    "* The integer numbers in the list correspond to row number"
   ]
  },
  {
   "cell_type": "code",
   "execution_count": null,
   "id": "a857cb99",
   "metadata": {},
   "outputs": [],
   "source": [
    "df_groupby_sex.groups"
   ]
  },
  {
   "cell_type": "markdown",
   "id": "1d81166b",
   "metadata": {},
   "source": [
    "* we can use `size()` method to compute and display group sizes"
   ]
  },
  {
   "cell_type": "code",
   "execution_count": null,
   "id": "ffd01eb3",
   "metadata": {},
   "outputs": [],
   "source": [
    "df_groupby_sex.size()"
   ]
  },
  {
   "cell_type": "markdown",
   "id": "1afdcf37",
   "metadata": {},
   "source": [
    "* to preview groups, we can call `first()` or `last()` to preview the result with the first or last entry"
   ]
  },
  {
   "cell_type": "code",
   "execution_count": null,
   "id": "5e5016b0",
   "metadata": {},
   "outputs": [],
   "source": [
    "df_groupby_sex.first()"
   ]
  },
  {
   "cell_type": "code",
   "execution_count": null,
   "id": "aef95f52",
   "metadata": {},
   "outputs": [],
   "source": [
    "df_groupby_sex.last()"
   ]
  },
  {
   "cell_type": "markdown",
   "id": "fb5ada12",
   "metadata": {},
   "source": [
    "* `get_group` : retrieve one of the created groups"
   ]
  },
  {
   "cell_type": "code",
   "execution_count": null,
   "id": "16be3c69",
   "metadata": {},
   "outputs": [],
   "source": [
    "df_female = df_groupby_sex.get_group('female')\n",
    "df_female.head()"
   ]
  },
  {
   "cell_type": "markdown",
   "id": "e13ec17a",
   "metadata": {},
   "source": [
    "# 2. The “group by” process: split-apply-combine\n",
    "\n",
    "* The “group by” process involves one or more of the following steps:\n",
    "    1. splitting the data into groups\n",
    "    2. applying a function to each group independently\n",
    "    3. combining the results into a data structure\n",
    "* out of these `groupby()` is widely used for the split step and is the most straightforward\n",
    "\n",
    "* when you get these groups, you might want to do things such as\n",
    "    * <b> aggregation </b> : \n",
    "        * compute a summary statistic for each group. for example, sum, mean, or count.\n",
    "    * <b> transformation </b> : \n",
    "        * perform some group-specific computations and return a like-indexed object. \n",
    "        * For example, standardize data within a group or replacing missing values within groups.\n",
    "    * <b> filtration </b>:\n",
    "        * discard some groups, according to a group-wise computation that evaluates True or False. \n",
    "        * For example, discard data that belongs to groups with only a few members or filter out data based on the group sum or mean.\n",
    "        \n",
    "        \n",
    "# 3. Aggregation\n",
    "* Once DataFrameGroupBy has been created, several methods are available to perform a computation on the grouped data\n",
    "* Aggregation is a very common step to perform\n",
    "\n",
    "    ## With column\n",
    "    * aggregation on a specific column"
   ]
  },
  {
   "cell_type": "code",
   "execution_count": null,
   "id": "57b4513a",
   "metadata": {},
   "outputs": [],
   "source": [
    "df.groupby('Sex').Age.max()"
   ]
  },
  {
   "cell_type": "markdown",
   "id": "72d13403",
   "metadata": {},
   "source": [
    "3. \n",
    "   ## With `agg()` method\n",
    "* There is a method called agg() and it allows us to specify multiple aggregation functions at once."
   ]
  },
  {
   "cell_type": "code",
   "execution_count": null,
   "id": "680188ba",
   "metadata": {},
   "outputs": [],
   "source": [
    "df.groupby('Sex').Age.agg(['max', 'min', 'count', 'median', 'mean'])"
   ]
  },
  {
   "cell_type": "markdown",
   "id": "dc073b3e",
   "metadata": {},
   "source": [
    "* If you would like to use a custom aggregation function:"
   ]
  },
  {
   "cell_type": "code",
   "execution_count": null,
   "id": "eb8564a2",
   "metadata": {},
   "outputs": [],
   "source": [
    "def categorize(x):\n",
    "    m = x.mean()\n",
    "    return True if m > 29 else False\n",
    "df.groupby('Sex').Age.agg(['max', 'mean', categorize])\n"
   ]
  },
  {
   "cell_type": "markdown",
   "id": "c905213d",
   "metadata": {},
   "source": [
    "* We can also use a lambda expression"
   ]
  },
  {
   "cell_type": "code",
   "execution_count": null,
   "id": "94afed23",
   "metadata": {},
   "outputs": [],
   "source": [
    "df.groupby('Sex').Age.agg(\n",
    "    ['max', 'mean', lambda x: True if x.mean() > 50 else False]\n",
    ")"
   ]
  },
  {
   "cell_type": "markdown",
   "id": "8f5c14d5",
   "metadata": {},
   "source": [
    "3. \n",
    "      ## Without column\n",
    "      * you don't necessarily have to specify a column like <b> Age </b>\n",
    "      * without a column, it will perform the aggregation across all of the numeric columns"
   ]
  },
  {
   "cell_type": "code",
   "execution_count": null,
   "id": "11d1c1e1",
   "metadata": {},
   "outputs": [],
   "source": [
    "df.groupby('Sex').mean()"
   ]
  },
  {
   "cell_type": "code",
   "execution_count": null,
   "id": "c5c03924",
   "metadata": {},
   "outputs": [],
   "source": [
    "df.groupby('Sex').agg(['mean', 'median'])\n"
   ]
  },
  {
   "cell_type": "markdown",
   "id": "07d38fd0",
   "metadata": {},
   "source": [
    "# 4. Transforming data\n",
    "\n",
    "* Transformation is a process in which we perform some group-specific computations and return a like-indexed (same length) object. \n",
    "* When looking for transforming data, `transform()` and `apply()` are the most commonly used functions.\n",
    "* Create a lambda expression for standardization"
   ]
  },
  {
   "cell_type": "code",
   "execution_count": null,
   "id": "75e20ef1",
   "metadata": {},
   "outputs": [],
   "source": [
    "standardization = lambda x: (x-x.mean())/ x.std()"
   ]
  },
  {
   "cell_type": "markdown",
   "id": "372c4619",
   "metadata": {},
   "source": [
    "* to perform the standardization on the Age column, we use `transform()`"
   ]
  },
  {
   "cell_type": "code",
   "execution_count": null,
   "id": "f34351f6",
   "metadata": {},
   "outputs": [],
   "source": [
    "df.groupby('Sex').Age.transform(standardization)\n"
   ]
  },
  {
   "cell_type": "markdown",
   "id": "8a69060e",
   "metadata": {},
   "source": [
    "* To perform the standardization on Age column using apply()"
   ]
  },
  {
   "cell_type": "code",
   "execution_count": null,
   "id": "67afb870",
   "metadata": {},
   "outputs": [],
   "source": [
    "df.groupby('Sex').Age.apply(standardization)"
   ]
  },
  {
   "cell_type": "code",
   "execution_count": null,
   "id": "00c50a0a",
   "metadata": {},
   "outputs": [],
   "source": []
  },
  {
   "cell_type": "markdown",
   "id": "6fa618a1",
   "metadata": {},
   "source": [
    "# 5. Filtration\n",
    "* Let’s take a look at how to discard data that belongs to groups with only a few members.\n",
    "* First, we group the data by Cabin and take a quick look at the size for each group. E.g.\n",
    "    `df.groupby('Cabin').size()\n",
    "    df.groupby('Cabin').filter(lambda x: len(x) >= 4)\n",
    "    `"
   ]
  },
  {
   "cell_type": "markdown",
   "id": "35089327",
   "metadata": {},
   "source": [
    "# 6. Grouping by multiple categories\n",
    "*  Instead of a label, we can also pass a list of labels to work with multiple grouping.\n",
    "```\n",
    "# Creating a subset\n",
    "df_subset = df.loc[:, ['Sex', 'Pclass', 'Age', 'Fare']]\n",
    "# Group by multiple categories\n",
    "df_subset.groupby(['Sex', 'Pclass']).mean()\n",
    "```"
   ]
  },
  {
   "cell_type": "markdown",
   "id": "e0c4bf6c",
   "metadata": {},
   "source": [
    "## 7. Merge()\n",
    "\n",
    "The simplest call without any key column\n",
    "Specifying key columns using on\n",
    "Merging using left_on and right_on\n",
    "Various forms of joins: inner, left, right and outer\n",
    "Using validate to avoid invalid records\n",
    "\n",
    "### 7.1 The simplest merge.\n",
    "\n",
    "`merge(left_dataframe, right_dataframe`"
   ]
  },
  {
   "cell_type": "code",
   "execution_count": 12,
   "id": "7566eba6",
   "metadata": {},
   "outputs": [
    {
     "data": {
      "text/html": [
       "<div>\n",
       "<style scoped>\n",
       "    .dataframe tbody tr th:only-of-type {\n",
       "        vertical-align: middle;\n",
       "    }\n",
       "\n",
       "    .dataframe tbody tr th {\n",
       "        vertical-align: top;\n",
       "    }\n",
       "\n",
       "    .dataframe thead th {\n",
       "        text-align: right;\n",
       "    }\n",
       "</style>\n",
       "<table border=\"1\" class=\"dataframe\">\n",
       "  <thead>\n",
       "    <tr style=\"text-align: right;\">\n",
       "      <th></th>\n",
       "      <th>id</th>\n",
       "      <th>name</th>\n",
       "      <th>age</th>\n",
       "      <th>sex</th>\n",
       "    </tr>\n",
       "  </thead>\n",
       "  <tbody>\n",
       "    <tr>\n",
       "      <th>0</th>\n",
       "      <td>2</td>\n",
       "      <td>Jenny</td>\n",
       "      <td>31</td>\n",
       "      <td>F</td>\n",
       "    </tr>\n",
       "    <tr>\n",
       "      <th>1</th>\n",
       "      <td>3</td>\n",
       "      <td>James</td>\n",
       "      <td>20</td>\n",
       "      <td>M</td>\n",
       "    </tr>\n",
       "    <tr>\n",
       "      <th>2</th>\n",
       "      <td>4</td>\n",
       "      <td>Dan</td>\n",
       "      <td>40</td>\n",
       "      <td>M</td>\n",
       "    </tr>\n",
       "  </tbody>\n",
       "</table>\n",
       "</div>"
      ],
      "text/plain": [
       "   id   name  age sex\n",
       "0   2  Jenny   31   F\n",
       "1   3  James   20   M\n",
       "2   4    Dan   40   M"
      ]
     },
     "execution_count": 12,
     "metadata": {},
     "output_type": "execute_result"
    }
   ],
   "source": [
    "df_customer = pd.DataFrame({\n",
    "    'id': [1, 2, 3, 4],\n",
    "    'name': ['Tom', 'Jenny', 'James', 'Dan'],\n",
    "})\n",
    "df_info = pd.DataFrame({\n",
    "    'id': [2, 3, 4, 5],\n",
    "    'age': [31, 20, 40, 70],\n",
    "    'sex': ['F', 'M', 'M', 'F']\n",
    "})\n",
    "pd.merge(df_customer, df_info)"
   ]
  },
  {
   "cell_type": "markdown",
   "id": "9d3b7ef9",
   "metadata": {},
   "source": [
    "* by default, the function will combine data on common columns (i.e. id)\n",
    "* will produce results that matches both left and right dataframe\n",
    "* below is equivalent statement if you called merge from the left dataframe\n",
    "`df_customer.merge(df_info`\n",
    "\n",
    "### 7.2 Specifying key columns using argument on\n",
    "* You can specify the common columns for merging. To do so, pass an additional argument on as the name of the common column, here 'id' in our example, to merge() function:"
   ]
  },
  {
   "cell_type": "code",
   "execution_count": 13,
   "id": "da6ee20c",
   "metadata": {},
   "outputs": [
    {
     "data": {
      "text/html": [
       "<div>\n",
       "<style scoped>\n",
       "    .dataframe tbody tr th:only-of-type {\n",
       "        vertical-align: middle;\n",
       "    }\n",
       "\n",
       "    .dataframe tbody tr th {\n",
       "        vertical-align: top;\n",
       "    }\n",
       "\n",
       "    .dataframe thead th {\n",
       "        text-align: right;\n",
       "    }\n",
       "</style>\n",
       "<table border=\"1\" class=\"dataframe\">\n",
       "  <thead>\n",
       "    <tr style=\"text-align: right;\">\n",
       "      <th></th>\n",
       "      <th>id</th>\n",
       "      <th>name</th>\n",
       "      <th>age</th>\n",
       "      <th>sex</th>\n",
       "    </tr>\n",
       "  </thead>\n",
       "  <tbody>\n",
       "    <tr>\n",
       "      <th>0</th>\n",
       "      <td>2</td>\n",
       "      <td>Jenny</td>\n",
       "      <td>31</td>\n",
       "      <td>F</td>\n",
       "    </tr>\n",
       "    <tr>\n",
       "      <th>1</th>\n",
       "      <td>3</td>\n",
       "      <td>James</td>\n",
       "      <td>20</td>\n",
       "      <td>M</td>\n",
       "    </tr>\n",
       "    <tr>\n",
       "      <th>2</th>\n",
       "      <td>4</td>\n",
       "      <td>Dan</td>\n",
       "      <td>40</td>\n",
       "      <td>M</td>\n",
       "    </tr>\n",
       "  </tbody>\n",
       "</table>\n",
       "</div>"
      ],
      "text/plain": [
       "   id   name  age sex\n",
       "0   2  Jenny   31   F\n",
       "1   3  James   20   M\n",
       "2   4    Dan   40   M"
      ]
     },
     "execution_count": 13,
     "metadata": {},
     "output_type": "execute_result"
    }
   ],
   "source": [
    "pd.merge(df_customer, df_info, on='id')"
   ]
  },
  {
   "cell_type": "markdown",
   "id": "c4169e20",
   "metadata": {},
   "source": [
    "* If you use on , you have to make sure the column you specify must be present in both left and right DataFrames.\n",
    "* To combine data on multiple common columns, you can pass a list toon:\n",
    "`pd.merge(df_customer, df_order, on=['id', 'name'])`"
   ]
  },
  {
   "cell_type": "markdown",
   "id": "a77f19a9",
   "metadata": {},
   "source": [
    "### 7.3 Merging using left_on and right_on\n",
    "* It might happen that the column on which you want to merge the DataFrames have different names. \n",
    "* For such merges, you will have to specify the left_on as the left DataFrame name and right_on as the right DataFrame name, for example:\n",
    "```\n",
    "pd.merge(\n",
    "  df_customer, \n",
    "  df_info_2, \n",
    "  left_on='id', \n",
    "  right_on='customer_id'\n",
    ")\n",
    "\n",
    "```\n",
    "\n",
    "### 7.4  Various type of joins: inner, left, right and outer\n",
    "\n",
    "* `inner`: the default join type in Pandas merge() function and it produces records that have matching values in both DataFrames\n",
    "* `left`: produces all records from the left DataFrame and the matched records from the right DataFrame\n",
    "* `right`: produces all records from the right DataFrame and the matched records from the left DataFrame\n",
    "* `outer`: produces all records when there is a match in either left or right DataFrame"
   ]
  },
  {
   "cell_type": "code",
   "execution_count": 17,
   "id": "080e4e73",
   "metadata": {},
   "outputs": [
    {
     "data": {
      "text/html": [
       "<div>\n",
       "<style scoped>\n",
       "    .dataframe tbody tr th:only-of-type {\n",
       "        vertical-align: middle;\n",
       "    }\n",
       "\n",
       "    .dataframe tbody tr th {\n",
       "        vertical-align: top;\n",
       "    }\n",
       "\n",
       "    .dataframe thead th {\n",
       "        text-align: right;\n",
       "    }\n",
       "</style>\n",
       "<table border=\"1\" class=\"dataframe\">\n",
       "  <thead>\n",
       "    <tr style=\"text-align: right;\">\n",
       "      <th></th>\n",
       "      <th>id</th>\n",
       "      <th>name</th>\n",
       "    </tr>\n",
       "  </thead>\n",
       "  <tbody>\n",
       "    <tr>\n",
       "      <th>0</th>\n",
       "      <td>1</td>\n",
       "      <td>Tom</td>\n",
       "    </tr>\n",
       "    <tr>\n",
       "      <th>1</th>\n",
       "      <td>2</td>\n",
       "      <td>Jenny</td>\n",
       "    </tr>\n",
       "    <tr>\n",
       "      <th>2</th>\n",
       "      <td>3</td>\n",
       "      <td>James</td>\n",
       "    </tr>\n",
       "    <tr>\n",
       "      <th>3</th>\n",
       "      <td>4</td>\n",
       "      <td>Dan</td>\n",
       "    </tr>\n",
       "  </tbody>\n",
       "</table>\n",
       "</div>"
      ],
      "text/plain": [
       "   id   name\n",
       "0   1    Tom\n",
       "1   2  Jenny\n",
       "2   3  James\n",
       "3   4    Dan"
      ]
     },
     "execution_count": 17,
     "metadata": {},
     "output_type": "execute_result"
    }
   ],
   "source": [
    "df_customer = pd.DataFrame({\n",
    "    'id': [1,2,3,4],\n",
    "    'name': ['Tom', 'Jenny', 'James', 'Dan'],\n",
    "})\n",
    "df_info = pd.DataFrame({\n",
    "    'id': [2,3,4,5],\n",
    "    'age': [31,20,40,70],\n",
    "    'sex': ['F', 'M', 'M', 'F']\n",
    "})\n",
    "df_customer"
   ]
  },
  {
   "cell_type": "code",
   "execution_count": 18,
   "id": "e2959fae",
   "metadata": {},
   "outputs": [
    {
     "data": {
      "text/html": [
       "<div>\n",
       "<style scoped>\n",
       "    .dataframe tbody tr th:only-of-type {\n",
       "        vertical-align: middle;\n",
       "    }\n",
       "\n",
       "    .dataframe tbody tr th {\n",
       "        vertical-align: top;\n",
       "    }\n",
       "\n",
       "    .dataframe thead th {\n",
       "        text-align: right;\n",
       "    }\n",
       "</style>\n",
       "<table border=\"1\" class=\"dataframe\">\n",
       "  <thead>\n",
       "    <tr style=\"text-align: right;\">\n",
       "      <th></th>\n",
       "      <th>id</th>\n",
       "      <th>age</th>\n",
       "      <th>sex</th>\n",
       "    </tr>\n",
       "  </thead>\n",
       "  <tbody>\n",
       "    <tr>\n",
       "      <th>0</th>\n",
       "      <td>2</td>\n",
       "      <td>31</td>\n",
       "      <td>F</td>\n",
       "    </tr>\n",
       "    <tr>\n",
       "      <th>1</th>\n",
       "      <td>3</td>\n",
       "      <td>20</td>\n",
       "      <td>M</td>\n",
       "    </tr>\n",
       "    <tr>\n",
       "      <th>2</th>\n",
       "      <td>4</td>\n",
       "      <td>40</td>\n",
       "      <td>M</td>\n",
       "    </tr>\n",
       "    <tr>\n",
       "      <th>3</th>\n",
       "      <td>5</td>\n",
       "      <td>70</td>\n",
       "      <td>F</td>\n",
       "    </tr>\n",
       "  </tbody>\n",
       "</table>\n",
       "</div>"
      ],
      "text/plain": [
       "   id  age sex\n",
       "0   2   31   F\n",
       "1   3   20   M\n",
       "2   4   40   M\n",
       "3   5   70   F"
      ]
     },
     "execution_count": 18,
     "metadata": {},
     "output_type": "execute_result"
    }
   ],
   "source": [
    "df_info"
   ]
  },
  {
   "cell_type": "markdown",
   "id": "7aa05646",
   "metadata": {},
   "source": [
    "#### inner"
   ]
  },
  {
   "cell_type": "code",
   "execution_count": 19,
   "id": "7b0e0c9e",
   "metadata": {},
   "outputs": [
    {
     "data": {
      "text/html": [
       "<div>\n",
       "<style scoped>\n",
       "    .dataframe tbody tr th:only-of-type {\n",
       "        vertical-align: middle;\n",
       "    }\n",
       "\n",
       "    .dataframe tbody tr th {\n",
       "        vertical-align: top;\n",
       "    }\n",
       "\n",
       "    .dataframe thead th {\n",
       "        text-align: right;\n",
       "    }\n",
       "</style>\n",
       "<table border=\"1\" class=\"dataframe\">\n",
       "  <thead>\n",
       "    <tr style=\"text-align: right;\">\n",
       "      <th></th>\n",
       "      <th>id</th>\n",
       "      <th>name</th>\n",
       "      <th>age</th>\n",
       "      <th>sex</th>\n",
       "    </tr>\n",
       "  </thead>\n",
       "  <tbody>\n",
       "    <tr>\n",
       "      <th>0</th>\n",
       "      <td>2</td>\n",
       "      <td>Jenny</td>\n",
       "      <td>31</td>\n",
       "      <td>F</td>\n",
       "    </tr>\n",
       "    <tr>\n",
       "      <th>1</th>\n",
       "      <td>3</td>\n",
       "      <td>James</td>\n",
       "      <td>20</td>\n",
       "      <td>M</td>\n",
       "    </tr>\n",
       "    <tr>\n",
       "      <th>2</th>\n",
       "      <td>4</td>\n",
       "      <td>Dan</td>\n",
       "      <td>40</td>\n",
       "      <td>M</td>\n",
       "    </tr>\n",
       "  </tbody>\n",
       "</table>\n",
       "</div>"
      ],
      "text/plain": [
       "   id   name  age sex\n",
       "0   2  Jenny   31   F\n",
       "1   3  James   20   M\n",
       "2   4    Dan   40   M"
      ]
     },
     "execution_count": 19,
     "metadata": {},
     "output_type": "execute_result"
    }
   ],
   "source": [
    "pd.merge(df_customer, df_info, on='id', how='inner')"
   ]
  },
  {
   "cell_type": "markdown",
   "id": "213e5af4",
   "metadata": {},
   "source": [
    "####  left : df_customer\n",
    "\n",
    "* The left join produces all records from the left DataFrame, and the matched records from the right DataFrame. \n",
    "* If there is no match, the left side will contain NaN. \n",
    "* You can set the argument how='left' to do left join:\n"
   ]
  },
  {
   "cell_type": "code",
   "execution_count": 21,
   "id": "5a860068",
   "metadata": {},
   "outputs": [
    {
     "data": {
      "text/html": [
       "<div>\n",
       "<style scoped>\n",
       "    .dataframe tbody tr th:only-of-type {\n",
       "        vertical-align: middle;\n",
       "    }\n",
       "\n",
       "    .dataframe tbody tr th {\n",
       "        vertical-align: top;\n",
       "    }\n",
       "\n",
       "    .dataframe thead th {\n",
       "        text-align: right;\n",
       "    }\n",
       "</style>\n",
       "<table border=\"1\" class=\"dataframe\">\n",
       "  <thead>\n",
       "    <tr style=\"text-align: right;\">\n",
       "      <th></th>\n",
       "      <th>id</th>\n",
       "      <th>name</th>\n",
       "      <th>age</th>\n",
       "      <th>sex</th>\n",
       "    </tr>\n",
       "  </thead>\n",
       "  <tbody>\n",
       "    <tr>\n",
       "      <th>0</th>\n",
       "      <td>1</td>\n",
       "      <td>Tom</td>\n",
       "      <td>NaN</td>\n",
       "      <td>NaN</td>\n",
       "    </tr>\n",
       "    <tr>\n",
       "      <th>1</th>\n",
       "      <td>2</td>\n",
       "      <td>Jenny</td>\n",
       "      <td>31.0</td>\n",
       "      <td>F</td>\n",
       "    </tr>\n",
       "    <tr>\n",
       "      <th>2</th>\n",
       "      <td>3</td>\n",
       "      <td>James</td>\n",
       "      <td>20.0</td>\n",
       "      <td>M</td>\n",
       "    </tr>\n",
       "    <tr>\n",
       "      <th>3</th>\n",
       "      <td>4</td>\n",
       "      <td>Dan</td>\n",
       "      <td>40.0</td>\n",
       "      <td>M</td>\n",
       "    </tr>\n",
       "  </tbody>\n",
       "</table>\n",
       "</div>"
      ],
      "text/plain": [
       "   id   name   age  sex\n",
       "0   1    Tom   NaN  NaN\n",
       "1   2  Jenny  31.0    F\n",
       "2   3  James  20.0    M\n",
       "3   4    Dan  40.0    M"
      ]
     },
     "execution_count": 21,
     "metadata": {},
     "output_type": "execute_result"
    }
   ],
   "source": [
    "pd.merge(df_customer, df_info, on='id', how='left')"
   ]
  },
  {
   "cell_type": "markdown",
   "id": "9914b9b4",
   "metadata": {},
   "source": [
    "#### right: df_info\n",
    "* The right join produces all records from the right DataFrame, and the matched records from the left DataFrame. \n",
    "* If there is no match, the right side will contain NaN."
   ]
  },
  {
   "cell_type": "code",
   "execution_count": 22,
   "id": "01acb546",
   "metadata": {},
   "outputs": [
    {
     "data": {
      "text/html": [
       "<div>\n",
       "<style scoped>\n",
       "    .dataframe tbody tr th:only-of-type {\n",
       "        vertical-align: middle;\n",
       "    }\n",
       "\n",
       "    .dataframe tbody tr th {\n",
       "        vertical-align: top;\n",
       "    }\n",
       "\n",
       "    .dataframe thead th {\n",
       "        text-align: right;\n",
       "    }\n",
       "</style>\n",
       "<table border=\"1\" class=\"dataframe\">\n",
       "  <thead>\n",
       "    <tr style=\"text-align: right;\">\n",
       "      <th></th>\n",
       "      <th>id</th>\n",
       "      <th>name</th>\n",
       "      <th>age</th>\n",
       "      <th>sex</th>\n",
       "    </tr>\n",
       "  </thead>\n",
       "  <tbody>\n",
       "    <tr>\n",
       "      <th>0</th>\n",
       "      <td>2</td>\n",
       "      <td>Jenny</td>\n",
       "      <td>31</td>\n",
       "      <td>F</td>\n",
       "    </tr>\n",
       "    <tr>\n",
       "      <th>1</th>\n",
       "      <td>3</td>\n",
       "      <td>James</td>\n",
       "      <td>20</td>\n",
       "      <td>M</td>\n",
       "    </tr>\n",
       "    <tr>\n",
       "      <th>2</th>\n",
       "      <td>4</td>\n",
       "      <td>Dan</td>\n",
       "      <td>40</td>\n",
       "      <td>M</td>\n",
       "    </tr>\n",
       "    <tr>\n",
       "      <th>3</th>\n",
       "      <td>5</td>\n",
       "      <td>NaN</td>\n",
       "      <td>70</td>\n",
       "      <td>F</td>\n",
       "    </tr>\n",
       "  </tbody>\n",
       "</table>\n",
       "</div>"
      ],
      "text/plain": [
       "   id   name  age sex\n",
       "0   2  Jenny   31   F\n",
       "1   3  James   20   M\n",
       "2   4    Dan   40   M\n",
       "3   5    NaN   70   F"
      ]
     },
     "execution_count": 22,
     "metadata": {},
     "output_type": "execute_result"
    }
   ],
   "source": [
    "pd.merge(df_customer, df_info, on='id', how='right')"
   ]
  },
  {
   "cell_type": "markdown",
   "id": "7a1ea5e5",
   "metadata": {},
   "source": [
    "#### outer\n",
    "* The outer join produces all records when there is a match in either left or right DataFrame.\n",
    "* NaN will be filled for no match on either sides. "
   ]
  },
  {
   "cell_type": "code",
   "execution_count": 23,
   "id": "cbd0654a",
   "metadata": {},
   "outputs": [
    {
     "data": {
      "text/html": [
       "<div>\n",
       "<style scoped>\n",
       "    .dataframe tbody tr th:only-of-type {\n",
       "        vertical-align: middle;\n",
       "    }\n",
       "\n",
       "    .dataframe tbody tr th {\n",
       "        vertical-align: top;\n",
       "    }\n",
       "\n",
       "    .dataframe thead th {\n",
       "        text-align: right;\n",
       "    }\n",
       "</style>\n",
       "<table border=\"1\" class=\"dataframe\">\n",
       "  <thead>\n",
       "    <tr style=\"text-align: right;\">\n",
       "      <th></th>\n",
       "      <th>id</th>\n",
       "      <th>name</th>\n",
       "      <th>age</th>\n",
       "      <th>sex</th>\n",
       "    </tr>\n",
       "  </thead>\n",
       "  <tbody>\n",
       "    <tr>\n",
       "      <th>0</th>\n",
       "      <td>1</td>\n",
       "      <td>Tom</td>\n",
       "      <td>NaN</td>\n",
       "      <td>NaN</td>\n",
       "    </tr>\n",
       "    <tr>\n",
       "      <th>1</th>\n",
       "      <td>2</td>\n",
       "      <td>Jenny</td>\n",
       "      <td>31.0</td>\n",
       "      <td>F</td>\n",
       "    </tr>\n",
       "    <tr>\n",
       "      <th>2</th>\n",
       "      <td>3</td>\n",
       "      <td>James</td>\n",
       "      <td>20.0</td>\n",
       "      <td>M</td>\n",
       "    </tr>\n",
       "    <tr>\n",
       "      <th>3</th>\n",
       "      <td>4</td>\n",
       "      <td>Dan</td>\n",
       "      <td>40.0</td>\n",
       "      <td>M</td>\n",
       "    </tr>\n",
       "    <tr>\n",
       "      <th>4</th>\n",
       "      <td>5</td>\n",
       "      <td>NaN</td>\n",
       "      <td>70.0</td>\n",
       "      <td>F</td>\n",
       "    </tr>\n",
       "  </tbody>\n",
       "</table>\n",
       "</div>"
      ],
      "text/plain": [
       "   id   name   age  sex\n",
       "0   1    Tom   NaN  NaN\n",
       "1   2  Jenny  31.0    F\n",
       "2   3  James  20.0    M\n",
       "3   4    Dan  40.0    M\n",
       "4   5    NaN  70.0    F"
      ]
     },
     "execution_count": 23,
     "metadata": {},
     "output_type": "execute_result"
    }
   ],
   "source": [
    "pd.merge(df_customer, df_info, on='id', how='outer')"
   ]
  },
  {
   "cell_type": "markdown",
   "id": "c76199b6",
   "metadata": {},
   "source": [
    "### 7.5 Using validate to avoid invalid records\n",
    "* The result of merge() might have an increased number of rows if the merge keys are not unique. For example"
   ]
  },
  {
   "cell_type": "code",
   "execution_count": 24,
   "id": "fbc81e53",
   "metadata": {},
   "outputs": [],
   "source": [
    "df_customer = pd.DataFrame({\n",
    "    'id': [1,2,3,4],\n",
    "    'name': ['Tom', 'Jenny', 'James', 'Dan'],\n",
    "})\n",
    "df_order_2 = pd.DataFrame({\n",
    "    'id': [2, 2, 4, 4],\n",
    "    'product': ['A', 'B' ,'A', 'C'],\n",
    "    'quantity': [31, 21, 20,40],\n",
    "    'date': pd.date_range('2019-02-24', periods=4, freq='D')\n",
    "})"
   ]
  },
  {
   "cell_type": "markdown",
   "id": "eec51bff",
   "metadata": {},
   "source": [
    "* both df_customer and df_order_2 have 4 records\n",
    "* but if you merged on id you'd get 6 records ( double 2, double 4)"
   ]
  },
  {
   "cell_type": "code",
   "execution_count": 25,
   "id": "5673fcf2",
   "metadata": {},
   "outputs": [
    {
     "data": {
      "text/html": [
       "<div>\n",
       "<style scoped>\n",
       "    .dataframe tbody tr th:only-of-type {\n",
       "        vertical-align: middle;\n",
       "    }\n",
       "\n",
       "    .dataframe tbody tr th {\n",
       "        vertical-align: top;\n",
       "    }\n",
       "\n",
       "    .dataframe thead th {\n",
       "        text-align: right;\n",
       "    }\n",
       "</style>\n",
       "<table border=\"1\" class=\"dataframe\">\n",
       "  <thead>\n",
       "    <tr style=\"text-align: right;\">\n",
       "      <th></th>\n",
       "      <th>id</th>\n",
       "      <th>name</th>\n",
       "      <th>product</th>\n",
       "      <th>quantity</th>\n",
       "      <th>date</th>\n",
       "    </tr>\n",
       "  </thead>\n",
       "  <tbody>\n",
       "    <tr>\n",
       "      <th>0</th>\n",
       "      <td>1</td>\n",
       "      <td>Tom</td>\n",
       "      <td>NaN</td>\n",
       "      <td>NaN</td>\n",
       "      <td>NaT</td>\n",
       "    </tr>\n",
       "    <tr>\n",
       "      <th>1</th>\n",
       "      <td>2</td>\n",
       "      <td>Jenny</td>\n",
       "      <td>A</td>\n",
       "      <td>31.0</td>\n",
       "      <td>2019-02-24</td>\n",
       "    </tr>\n",
       "    <tr>\n",
       "      <th>2</th>\n",
       "      <td>2</td>\n",
       "      <td>Jenny</td>\n",
       "      <td>B</td>\n",
       "      <td>21.0</td>\n",
       "      <td>2019-02-25</td>\n",
       "    </tr>\n",
       "    <tr>\n",
       "      <th>3</th>\n",
       "      <td>3</td>\n",
       "      <td>James</td>\n",
       "      <td>NaN</td>\n",
       "      <td>NaN</td>\n",
       "      <td>NaT</td>\n",
       "    </tr>\n",
       "    <tr>\n",
       "      <th>4</th>\n",
       "      <td>4</td>\n",
       "      <td>Dan</td>\n",
       "      <td>A</td>\n",
       "      <td>20.0</td>\n",
       "      <td>2019-02-26</td>\n",
       "    </tr>\n",
       "    <tr>\n",
       "      <th>5</th>\n",
       "      <td>4</td>\n",
       "      <td>Dan</td>\n",
       "      <td>C</td>\n",
       "      <td>40.0</td>\n",
       "      <td>2019-02-27</td>\n",
       "    </tr>\n",
       "  </tbody>\n",
       "</table>\n",
       "</div>"
      ],
      "text/plain": [
       "   id   name product  quantity       date\n",
       "0   1    Tom     NaN       NaN        NaT\n",
       "1   2  Jenny       A      31.0 2019-02-24\n",
       "2   2  Jenny       B      21.0 2019-02-25\n",
       "3   3  James     NaN       NaN        NaT\n",
       "4   4    Dan       A      20.0 2019-02-26\n",
       "5   4    Dan       C      40.0 2019-02-27"
      ]
     },
     "execution_count": 25,
     "metadata": {},
     "output_type": "execute_result"
    }
   ],
   "source": [
    "pd.merge(df_customer, df_order_2, how='left', on='id')"
   ]
  },
  {
   "cell_type": "markdown",
   "id": "a52ce3dd",
   "metadata": {},
   "source": [
    "#### why?\n",
    "* Here are the reasons:\n",
    "    * the how='left' will produce all records from df_customer, and the matched records from df_order_2.\n",
    "    * In addition, the id in df_order_2 is not unique and all the matching records will be combined and returned.\n",
    "* it's a case of <b>one-to-many</b> merge\n",
    "* However, one-to-many might be invalid in some other cases, for example, there are two records with the id value 2 in df_info"
   ]
  },
  {
   "cell_type": "code",
   "execution_count": 26,
   "id": "34a08ba0",
   "metadata": {},
   "outputs": [],
   "source": [
    "df_customer = pd.DataFrame({\n",
    "    'id': [1, 2, 3, 4],\n",
    "    'name': ['Tom', 'Jenny', 'James', 'Dan'],\n",
    "})\n",
    "df_info = pd.DataFrame({\n",
    "    'id': [2, 2, 3, 4, 5],\n",
    "    'age': [31, 21, 20, 40, 70],\n",
    "    'sex': ['F', 'F', 'M', 'M', 'F']\n",
    "})"
   ]
  },
  {
   "cell_type": "code",
   "execution_count": 27,
   "id": "1ada3498",
   "metadata": {},
   "outputs": [
    {
     "data": {
      "text/html": [
       "<div>\n",
       "<style scoped>\n",
       "    .dataframe tbody tr th:only-of-type {\n",
       "        vertical-align: middle;\n",
       "    }\n",
       "\n",
       "    .dataframe tbody tr th {\n",
       "        vertical-align: top;\n",
       "    }\n",
       "\n",
       "    .dataframe thead th {\n",
       "        text-align: right;\n",
       "    }\n",
       "</style>\n",
       "<table border=\"1\" class=\"dataframe\">\n",
       "  <thead>\n",
       "    <tr style=\"text-align: right;\">\n",
       "      <th></th>\n",
       "      <th>id</th>\n",
       "      <th>name</th>\n",
       "      <th>age</th>\n",
       "      <th>sex</th>\n",
       "    </tr>\n",
       "  </thead>\n",
       "  <tbody>\n",
       "    <tr>\n",
       "      <th>0</th>\n",
       "      <td>1</td>\n",
       "      <td>Tom</td>\n",
       "      <td>NaN</td>\n",
       "      <td>NaN</td>\n",
       "    </tr>\n",
       "    <tr>\n",
       "      <th>1</th>\n",
       "      <td>2</td>\n",
       "      <td>Jenny</td>\n",
       "      <td>31.0</td>\n",
       "      <td>F</td>\n",
       "    </tr>\n",
       "    <tr>\n",
       "      <th>2</th>\n",
       "      <td>2</td>\n",
       "      <td>Jenny</td>\n",
       "      <td>21.0</td>\n",
       "      <td>F</td>\n",
       "    </tr>\n",
       "    <tr>\n",
       "      <th>3</th>\n",
       "      <td>3</td>\n",
       "      <td>James</td>\n",
       "      <td>20.0</td>\n",
       "      <td>M</td>\n",
       "    </tr>\n",
       "    <tr>\n",
       "      <th>4</th>\n",
       "      <td>4</td>\n",
       "      <td>Dan</td>\n",
       "      <td>40.0</td>\n",
       "      <td>M</td>\n",
       "    </tr>\n",
       "  </tbody>\n",
       "</table>\n",
       "</div>"
      ],
      "text/plain": [
       "   id   name   age  sex\n",
       "0   1    Tom   NaN  NaN\n",
       "1   2  Jenny  31.0    F\n",
       "2   2  Jenny  21.0    F\n",
       "3   3  James  20.0    M\n",
       "4   4    Dan  40.0    M"
      ]
     },
     "execution_count": 27,
     "metadata": {},
     "output_type": "execute_result"
    }
   ],
   "source": [
    "pd.merge(df_customer, df_info, how='left', on='id')\n"
   ]
  },
  {
   "cell_type": "markdown",
   "id": "2ea239e8",
   "metadata": {},
   "source": [
    "* doing this, since the id is not unique, you get 2 different records for the same customer Jenny\n",
    "* to remedy this we want a 1-1 mapping\n",
    "    * we can do this by setting the argument `validate='1:1'`\n",
    "        * it checks if merge keys are unique in both left/right dataframes and will raise a MergeError if the validation fails"
   ]
  },
  {
   "cell_type": "code",
   "execution_count": 28,
   "id": "fec3c529",
   "metadata": {},
   "outputs": [
    {
     "ename": "MergeError",
     "evalue": "Merge keys are not unique in right dataset; not a one-to-one merge",
     "output_type": "error",
     "traceback": [
      "\u001b[0;31m---------------------------------------------------------------------------\u001b[0m",
      "\u001b[0;31mMergeError\u001b[0m                                Traceback (most recent call last)",
      "\u001b[0;32m<ipython-input-28-8b5f28db200b>\u001b[0m in \u001b[0;36m<module>\u001b[0;34m\u001b[0m\n\u001b[0;32m----> 1\u001b[0;31m \u001b[0mpd\u001b[0m\u001b[0;34m.\u001b[0m\u001b[0mmerge\u001b[0m\u001b[0;34m(\u001b[0m\u001b[0mdf_customer\u001b[0m\u001b[0;34m,\u001b[0m \u001b[0mdf_info\u001b[0m\u001b[0;34m,\u001b[0m \u001b[0mhow\u001b[0m\u001b[0;34m=\u001b[0m\u001b[0;34m'left'\u001b[0m\u001b[0;34m,\u001b[0m \u001b[0mon\u001b[0m\u001b[0;34m=\u001b[0m\u001b[0;34m'id'\u001b[0m\u001b[0;34m,\u001b[0m \u001b[0mvalidate\u001b[0m\u001b[0;34m=\u001b[0m\u001b[0;34m'1:1'\u001b[0m\u001b[0;34m)\u001b[0m\u001b[0;34m\u001b[0m\u001b[0;34m\u001b[0m\u001b[0m\n\u001b[0m",
      "\u001b[0;32m~/opt/anaconda3/lib/python3.8/site-packages/pandas/core/reshape/merge.py\u001b[0m in \u001b[0;36mmerge\u001b[0;34m(left, right, how, on, left_on, right_on, left_index, right_index, sort, suffixes, copy, indicator, validate)\u001b[0m\n\u001b[1;32m     72\u001b[0m     \u001b[0mvalidate\u001b[0m\u001b[0;34m=\u001b[0m\u001b[0;32mNone\u001b[0m\u001b[0;34m,\u001b[0m\u001b[0;34m\u001b[0m\u001b[0;34m\u001b[0m\u001b[0m\n\u001b[1;32m     73\u001b[0m ) -> \"DataFrame\":\n\u001b[0;32m---> 74\u001b[0;31m     op = _MergeOperation(\n\u001b[0m\u001b[1;32m     75\u001b[0m         \u001b[0mleft\u001b[0m\u001b[0;34m,\u001b[0m\u001b[0;34m\u001b[0m\u001b[0;34m\u001b[0m\u001b[0m\n\u001b[1;32m     76\u001b[0m         \u001b[0mright\u001b[0m\u001b[0;34m,\u001b[0m\u001b[0;34m\u001b[0m\u001b[0;34m\u001b[0m\u001b[0m\n",
      "\u001b[0;32m~/opt/anaconda3/lib/python3.8/site-packages/pandas/core/reshape/merge.py\u001b[0m in \u001b[0;36m__init__\u001b[0;34m(self, left, right, how, on, left_on, right_on, axis, left_index, right_index, sort, suffixes, copy, indicator, validate)\u001b[0m\n\u001b[1;32m    676\u001b[0m         \u001b[0;31m# are in fact unique.\u001b[0m\u001b[0;34m\u001b[0m\u001b[0;34m\u001b[0m\u001b[0;34m\u001b[0m\u001b[0m\n\u001b[1;32m    677\u001b[0m         \u001b[0;32mif\u001b[0m \u001b[0mvalidate\u001b[0m \u001b[0;32mis\u001b[0m \u001b[0;32mnot\u001b[0m \u001b[0;32mNone\u001b[0m\u001b[0;34m:\u001b[0m\u001b[0;34m\u001b[0m\u001b[0;34m\u001b[0m\u001b[0m\n\u001b[0;32m--> 678\u001b[0;31m             \u001b[0mself\u001b[0m\u001b[0;34m.\u001b[0m\u001b[0m_validate\u001b[0m\u001b[0;34m(\u001b[0m\u001b[0mvalidate\u001b[0m\u001b[0;34m)\u001b[0m\u001b[0;34m\u001b[0m\u001b[0;34m\u001b[0m\u001b[0m\n\u001b[0m\u001b[1;32m    679\u001b[0m \u001b[0;34m\u001b[0m\u001b[0m\n\u001b[1;32m    680\u001b[0m     \u001b[0;32mdef\u001b[0m \u001b[0mget_result\u001b[0m\u001b[0;34m(\u001b[0m\u001b[0mself\u001b[0m\u001b[0;34m)\u001b[0m\u001b[0;34m:\u001b[0m\u001b[0;34m\u001b[0m\u001b[0;34m\u001b[0m\u001b[0m\n",
      "\u001b[0;32m~/opt/anaconda3/lib/python3.8/site-packages/pandas/core/reshape/merge.py\u001b[0m in \u001b[0;36m_validate\u001b[0;34m(self, validate)\u001b[0m\n\u001b[1;32m   1364\u001b[0m                 )\n\u001b[1;32m   1365\u001b[0m             \u001b[0;32melif\u001b[0m \u001b[0;32mnot\u001b[0m \u001b[0mright_unique\u001b[0m\u001b[0;34m:\u001b[0m\u001b[0;34m\u001b[0m\u001b[0;34m\u001b[0m\u001b[0m\n\u001b[0;32m-> 1366\u001b[0;31m                 raise MergeError(\n\u001b[0m\u001b[1;32m   1367\u001b[0m                     \u001b[0;34m\"Merge keys are not unique in right dataset; not a one-to-one merge\"\u001b[0m\u001b[0;34m\u001b[0m\u001b[0;34m\u001b[0m\u001b[0m\n\u001b[1;32m   1368\u001b[0m                 )\n",
      "\u001b[0;31mMergeError\u001b[0m: Merge keys are not unique in right dataset; not a one-to-one merge"
     ]
    }
   ],
   "source": [
    "pd.merge(df_customer, df_info, how='left', on='id', validate='1:1')"
   ]
  },
  {
   "cell_type": "markdown",
   "id": "3bf8f025",
   "metadata": {},
   "source": [
    "* The argument validate takes one of the following values, so you can use it to validate different merge outputs.\n",
    "\n",
    "    * `one_to_one` or `1:1` : check if merge keys are unique in both left and right datasets.\n",
    "    * `one_to_many` or `1:m` : check if merge keys are unique in left dataset.\n",
    "    * `many_to_one` or `m:1` : check if merge keys are unique in right dataset.\n",
    "    * `many_to_many` or `m:m`: allowed, but does not result in checks."
   ]
  },
  {
   "cell_type": "code",
   "execution_count": null,
   "id": "e2269b30",
   "metadata": {},
   "outputs": [],
   "source": []
  },
  {
   "cell_type": "code",
   "execution_count": null,
   "id": "c0e29473",
   "metadata": {},
   "outputs": [],
   "source": []
  },
  {
   "cell_type": "markdown",
   "id": "e7ee0757",
   "metadata": {},
   "source": [
    "----\n",
    "# Apply functions using congress data"
   ]
  },
  {
   "cell_type": "code",
   "execution_count": 4,
   "id": "c5d0a8c4",
   "metadata": {},
   "outputs": [],
   "source": [
    "import pandas as pd\n",
    "dtypes = {\n",
    "    \"first_name\": \"category\",\n",
    "    \"gender\": \"category\",\n",
    "    \"type\": \"category\",\n",
    "    \"state\": \"category\",\n",
    "    \"party\": \"category\",\n",
    "}\n",
    "df = pd.read_csv(\n",
    "    \"congress data/legislators-historical.csv\",\n",
    "    dtype=dtypes,\n",
    "    usecols=list(dtypes) + [\"birthday\", \"last_name\"],\n",
    "    parse_dates=[\"birthday\"]\n",
    ")"
   ]
  },
  {
   "cell_type": "code",
   "execution_count": 5,
   "id": "429e8e98",
   "metadata": {},
   "outputs": [
    {
     "data": {
      "text/html": [
       "<div>\n",
       "<style scoped>\n",
       "    .dataframe tbody tr th:only-of-type {\n",
       "        vertical-align: middle;\n",
       "    }\n",
       "\n",
       "    .dataframe tbody tr th {\n",
       "        vertical-align: top;\n",
       "    }\n",
       "\n",
       "    .dataframe thead th {\n",
       "        text-align: right;\n",
       "    }\n",
       "</style>\n",
       "<table border=\"1\" class=\"dataframe\">\n",
       "  <thead>\n",
       "    <tr style=\"text-align: right;\">\n",
       "      <th></th>\n",
       "      <th>last_name</th>\n",
       "      <th>first_name</th>\n",
       "      <th>birthday</th>\n",
       "      <th>gender</th>\n",
       "      <th>type</th>\n",
       "      <th>state</th>\n",
       "      <th>party</th>\n",
       "    </tr>\n",
       "  </thead>\n",
       "  <tbody>\n",
       "    <tr>\n",
       "      <th>12044</th>\n",
       "      <td>Wright</td>\n",
       "      <td>Ron</td>\n",
       "      <td>1953-04-08</td>\n",
       "      <td>M</td>\n",
       "      <td>rep</td>\n",
       "      <td>TX</td>\n",
       "      <td>Republican</td>\n",
       "    </tr>\n",
       "    <tr>\n",
       "      <th>12045</th>\n",
       "      <td>Fudge</td>\n",
       "      <td>Marcia</td>\n",
       "      <td>1952-10-29</td>\n",
       "      <td>F</td>\n",
       "      <td>rep</td>\n",
       "      <td>OH</td>\n",
       "      <td>Democrat</td>\n",
       "    </tr>\n",
       "    <tr>\n",
       "      <th>12046</th>\n",
       "      <td>Haaland</td>\n",
       "      <td>Debra</td>\n",
       "      <td>1960-12-02</td>\n",
       "      <td>F</td>\n",
       "      <td>rep</td>\n",
       "      <td>NM</td>\n",
       "      <td>Democrat</td>\n",
       "    </tr>\n",
       "    <tr>\n",
       "      <th>12047</th>\n",
       "      <td>Hastings</td>\n",
       "      <td>Alcee</td>\n",
       "      <td>1936-09-05</td>\n",
       "      <td>M</td>\n",
       "      <td>rep</td>\n",
       "      <td>FL</td>\n",
       "      <td>Democrat</td>\n",
       "    </tr>\n",
       "    <tr>\n",
       "      <th>12048</th>\n",
       "      <td>Stivers</td>\n",
       "      <td>Steve</td>\n",
       "      <td>1965-03-24</td>\n",
       "      <td>M</td>\n",
       "      <td>rep</td>\n",
       "      <td>OH</td>\n",
       "      <td>Republican</td>\n",
       "    </tr>\n",
       "  </tbody>\n",
       "</table>\n",
       "</div>"
      ],
      "text/plain": [
       "      last_name first_name   birthday gender type state       party\n",
       "12044    Wright        Ron 1953-04-08      M  rep    TX  Republican\n",
       "12045     Fudge     Marcia 1952-10-29      F  rep    OH    Democrat\n",
       "12046   Haaland      Debra 1960-12-02      F  rep    NM    Democrat\n",
       "12047  Hastings      Alcee 1936-09-05      M  rep    FL    Democrat\n",
       "12048   Stivers      Steve 1965-03-24      M  rep    OH  Republican"
      ]
     },
     "execution_count": 5,
     "metadata": {},
     "output_type": "execute_result"
    }
   ],
   "source": [
    "df.tail()"
   ]
  },
  {
   "cell_type": "code",
   "execution_count": 6,
   "id": "25979770",
   "metadata": {},
   "outputs": [
    {
     "data": {
      "text/html": [
       "<div>\n",
       "<style scoped>\n",
       "    .dataframe tbody tr th:only-of-type {\n",
       "        vertical-align: middle;\n",
       "    }\n",
       "\n",
       "    .dataframe tbody tr th {\n",
       "        vertical-align: top;\n",
       "    }\n",
       "\n",
       "    .dataframe thead th {\n",
       "        text-align: right;\n",
       "    }\n",
       "</style>\n",
       "<table border=\"1\" class=\"dataframe\">\n",
       "  <thead>\n",
       "    <tr style=\"text-align: right;\">\n",
       "      <th></th>\n",
       "      <th>last_name</th>\n",
       "      <th>first_name</th>\n",
       "      <th>birthday</th>\n",
       "      <th>gender</th>\n",
       "      <th>type</th>\n",
       "      <th>state</th>\n",
       "      <th>party</th>\n",
       "    </tr>\n",
       "  </thead>\n",
       "  <tbody>\n",
       "    <tr>\n",
       "      <th>0</th>\n",
       "      <td>Bassett</td>\n",
       "      <td>Richard</td>\n",
       "      <td>1745-04-02</td>\n",
       "      <td>M</td>\n",
       "      <td>sen</td>\n",
       "      <td>DE</td>\n",
       "      <td>Anti-Administration</td>\n",
       "    </tr>\n",
       "    <tr>\n",
       "      <th>1</th>\n",
       "      <td>Bland</td>\n",
       "      <td>Theodorick</td>\n",
       "      <td>1742-03-21</td>\n",
       "      <td>M</td>\n",
       "      <td>rep</td>\n",
       "      <td>VA</td>\n",
       "      <td>NaN</td>\n",
       "    </tr>\n",
       "    <tr>\n",
       "      <th>2</th>\n",
       "      <td>Burke</td>\n",
       "      <td>Aedanus</td>\n",
       "      <td>1743-06-16</td>\n",
       "      <td>M</td>\n",
       "      <td>rep</td>\n",
       "      <td>SC</td>\n",
       "      <td>NaN</td>\n",
       "    </tr>\n",
       "    <tr>\n",
       "      <th>3</th>\n",
       "      <td>Carroll</td>\n",
       "      <td>Daniel</td>\n",
       "      <td>1730-07-22</td>\n",
       "      <td>M</td>\n",
       "      <td>rep</td>\n",
       "      <td>MD</td>\n",
       "      <td>NaN</td>\n",
       "    </tr>\n",
       "    <tr>\n",
       "      <th>4</th>\n",
       "      <td>Clymer</td>\n",
       "      <td>George</td>\n",
       "      <td>1739-03-16</td>\n",
       "      <td>M</td>\n",
       "      <td>rep</td>\n",
       "      <td>PA</td>\n",
       "      <td>NaN</td>\n",
       "    </tr>\n",
       "  </tbody>\n",
       "</table>\n",
       "</div>"
      ],
      "text/plain": [
       "  last_name  first_name   birthday gender type state                party\n",
       "0   Bassett     Richard 1745-04-02      M  sen    DE  Anti-Administration\n",
       "1     Bland  Theodorick 1742-03-21      M  rep    VA                  NaN\n",
       "2     Burke     Aedanus 1743-06-16      M  rep    SC                  NaN\n",
       "3   Carroll      Daniel 1730-07-22      M  rep    MD                  NaN\n",
       "4    Clymer      George 1739-03-16      M  rep    PA                  NaN"
      ]
     },
     "execution_count": 6,
     "metadata": {},
     "output_type": "execute_result"
    }
   ],
   "source": [
    "df.head()"
   ]
  },
  {
   "cell_type": "code",
   "execution_count": 7,
   "id": "b1ac9bcb",
   "metadata": {},
   "outputs": [
    {
     "data": {
      "text/plain": [
       "<bound method DataFrame.info of       last_name  first_name   birthday gender type state                party\n",
       "0       Bassett     Richard 1745-04-02      M  sen    DE  Anti-Administration\n",
       "1         Bland  Theodorick 1742-03-21      M  rep    VA                  NaN\n",
       "2         Burke     Aedanus 1743-06-16      M  rep    SC                  NaN\n",
       "3       Carroll      Daniel 1730-07-22      M  rep    MD                  NaN\n",
       "4        Clymer      George 1739-03-16      M  rep    PA                  NaN\n",
       "...         ...         ...        ...    ...  ...   ...                  ...\n",
       "12044    Wright         Ron 1953-04-08      M  rep    TX           Republican\n",
       "12045     Fudge      Marcia 1952-10-29      F  rep    OH             Democrat\n",
       "12046   Haaland       Debra 1960-12-02      F  rep    NM             Democrat\n",
       "12047  Hastings       Alcee 1936-09-05      M  rep    FL             Democrat\n",
       "12048   Stivers       Steve 1965-03-24      M  rep    OH           Republican\n",
       "\n",
       "[12049 rows x 7 columns]>"
      ]
     },
     "execution_count": 7,
     "metadata": {},
     "output_type": "execute_result"
    }
   ],
   "source": [
    "df.info"
   ]
  },
  {
   "cell_type": "markdown",
   "id": "5ff2d72f",
   "metadata": {},
   "source": [
    "## notes \n",
    "* You call .groupby() and pass the name of the column you want to group on, which is \"state\". \n",
    "* Then, you use `[\"last_name\"]` to specify the columns on which you want to perform the actual aggregation."
   ]
  },
  {
   "cell_type": "code",
   "execution_count": 10,
   "id": "767d3215",
   "metadata": {},
   "outputs": [
    {
     "data": {
      "text/plain": [
       "state\n",
       "AK      14\n",
       "AL     209\n",
       "AR     115\n",
       "AS       2\n",
       "AZ      49\n",
       "CA     367\n",
       "CO      92\n",
       "CT     227\n",
       "DC       2\n",
       "DE      94\n",
       "DK       8\n",
       "FL     157\n",
       "GA     311\n",
       "GU       4\n",
       "HI      23\n",
       "IA     205\n",
       "ID      59\n",
       "IL     485\n",
       "IN     340\n",
       "KS     143\n",
       "KY     368\n",
       "LA     196\n",
       "MA     411\n",
       "MD     286\n",
       "ME     170\n",
       "MI     292\n",
       "MN     160\n",
       "MO     331\n",
       "MS     151\n",
       "MT      53\n",
       "NC     345\n",
       "ND      44\n",
       "NE     126\n",
       "NH     176\n",
       "NJ     349\n",
       "NM      55\n",
       "NV      55\n",
       "NY    1432\n",
       "OH     669\n",
       "OK      93\n",
       "OL       0\n",
       "OR      90\n",
       "PA    1035\n",
       "PI       0\n",
       "PR      19\n",
       "RI     105\n",
       "SC     244\n",
       "SD      51\n",
       "TN     299\n",
       "TX     263\n",
       "UT      55\n",
       "VA     419\n",
       "VI       4\n",
       "VT     111\n",
       "WA      96\n",
       "WI     198\n",
       "WV     120\n",
       "WY      40\n",
       "Name: party, dtype: int64"
      ]
     },
     "execution_count": 10,
     "metadata": {},
     "output_type": "execute_result"
    }
   ],
   "source": [
    "df.groupby('state')['party'].count()"
   ]
  },
  {
   "cell_type": "markdown",
   "id": "5a0e9fe2",
   "metadata": {},
   "source": [
    "* you can more than just a single column name to `.groupby()` as the first argument. You can also use\n",
    "    * a list of multiple column names\n",
    "    * a dict or panda series\n",
    "    * a numpy array or pandas index\n",
    "    "
   ]
  },
  {
   "cell_type": "code",
   "execution_count": 11,
   "id": "1a9f1a65",
   "metadata": {},
   "outputs": [
    {
     "data": {
      "text/plain": [
       "state  gender\n",
       "AK     F           0\n",
       "       M          16\n",
       "AL     F           4\n",
       "       M         205\n",
       "AR     F           5\n",
       "                ... \n",
       "WI     M         198\n",
       "WV     F           1\n",
       "       M         119\n",
       "WY     F           1\n",
       "       M          39\n",
       "Name: last_name, Length: 116, dtype: int64"
      ]
     },
     "execution_count": 11,
     "metadata": {},
     "output_type": "execute_result"
    }
   ],
   "source": [
    "# groupy by 2 columns\n",
    "df.groupby([\"state\", \"gender\"])[\"last_name\"].count()"
   ]
  },
  {
   "cell_type": "code",
   "execution_count": null,
   "id": "fc42cdda",
   "metadata": {},
   "outputs": [],
   "source": []
  },
  {
   "cell_type": "code",
   "execution_count": null,
   "id": "6cd9e2ff",
   "metadata": {},
   "outputs": [],
   "source": []
  },
  {
   "cell_type": "code",
   "execution_count": null,
   "id": "6ea72d6b",
   "metadata": {},
   "outputs": [],
   "source": []
  },
  {
   "cell_type": "code",
   "execution_count": null,
   "id": "ec9b1b08",
   "metadata": {},
   "outputs": [],
   "source": []
  },
  {
   "cell_type": "code",
   "execution_count": null,
   "id": "e95870ed",
   "metadata": {},
   "outputs": [],
   "source": []
  },
  {
   "cell_type": "code",
   "execution_count": null,
   "id": "1ffaf951",
   "metadata": {},
   "outputs": [],
   "source": []
  }
 ],
 "metadata": {
  "kernelspec": {
   "display_name": "Python 3",
   "language": "python",
   "name": "python3"
  },
  "language_info": {
   "codemirror_mode": {
    "name": "ipython",
    "version": 3
   },
   "file_extension": ".py",
   "mimetype": "text/x-python",
   "name": "python",
   "nbconvert_exporter": "python",
   "pygments_lexer": "ipython3",
   "version": "3.8.8"
  }
 },
 "nbformat": 4,
 "nbformat_minor": 5
}
