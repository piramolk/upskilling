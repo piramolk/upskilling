{
 "cells": [
  {
   "cell_type": "markdown",
   "id": "956bb10f",
   "metadata": {},
   "source": [
    "# About\n",
    "* Created by: Piramol Krishnan\n",
    "* Created on : 10 Aug 2021\n",
    "* Goal: Document useful functions and then execute them using Biffa pipeline data"
   ]
  },
  {
   "cell_type": "code",
   "execution_count": 2,
   "id": "822abb3c",
   "metadata": {},
   "outputs": [],
   "source": [
    "import pandas as pd\n",
    "import numpy as np"
   ]
  },
  {
   "cell_type": "markdown",
   "id": "3b558aa9",
   "metadata": {},
   "source": [
    "## 1. Pipe()\n",
    "\n",
    "### What is it used for\n",
    "    * Used for data cleaning/ preprocessing \n",
    "\n",
    "### What does it do?\n",
    "    * chain multiple custom functions into a single operation\n",
    "* E.g.\n",
    "    * drop_duplicates, remove_outliers, encode_categoricals -> they all accept their own arguements\n",
    "* Below is how you apply all three in a single operation\n",
    "\n",
    "### How to apply\n",
    "```\n",
    "df_preped = (diamonds.pipe(drop_duplicates).\n",
    "                      pipe(remove_outliers, ['price','carat','depth']).\n",
    "                      pipe(encode_categoricals, ['cut','color','clarity'])\n",
    "\n",
    "```"
   ]
  },
  {
   "cell_type": "code",
   "execution_count": 14,
   "id": "4ad118e1",
   "metadata": {},
   "outputs": [
    {
     "data": {
      "text/html": [
       "<div>\n",
       "<style scoped>\n",
       "    .dataframe tbody tr th:only-of-type {\n",
       "        vertical-align: middle;\n",
       "    }\n",
       "\n",
       "    .dataframe tbody tr th {\n",
       "        vertical-align: top;\n",
       "    }\n",
       "\n",
       "    .dataframe thead th {\n",
       "        text-align: right;\n",
       "    }\n",
       "</style>\n",
       "<table border=\"1\" class=\"dataframe\">\n",
       "  <thead>\n",
       "    <tr style=\"text-align: right;\">\n",
       "      <th></th>\n",
       "      <th>id</th>\n",
       "      <th>A</th>\n",
       "      <th>B</th>\n",
       "      <th>C</th>\n",
       "    </tr>\n",
       "  </thead>\n",
       "  <tbody>\n",
       "    <tr>\n",
       "      <th>0</th>\n",
       "      <td>100</td>\n",
       "      <td>1.0</td>\n",
       "      <td>45</td>\n",
       "      <td>1.2</td>\n",
       "    </tr>\n",
       "    <tr>\n",
       "      <th>1</th>\n",
       "      <td>100</td>\n",
       "      <td>2.0</td>\n",
       "      <td>56</td>\n",
       "      <td>1.4</td>\n",
       "    </tr>\n",
       "    <tr>\n",
       "      <th>2</th>\n",
       "      <td>101</td>\n",
       "      <td>3.0</td>\n",
       "      <td>48</td>\n",
       "      <td>1.1</td>\n",
       "    </tr>\n",
       "    <tr>\n",
       "      <th>3</th>\n",
       "      <td>102</td>\n",
       "      <td>4.0</td>\n",
       "      <td>47</td>\n",
       "      <td>1.8</td>\n",
       "    </tr>\n",
       "    <tr>\n",
       "      <th>4</th>\n",
       "      <td>103</td>\n",
       "      <td>5.0</td>\n",
       "      <td>62</td>\n",
       "      <td>NaN</td>\n",
       "    </tr>\n",
       "    <tr>\n",
       "      <th>5</th>\n",
       "      <td>104</td>\n",
       "      <td>2.0</td>\n",
       "      <td>112</td>\n",
       "      <td>1.4</td>\n",
       "    </tr>\n",
       "    <tr>\n",
       "      <th>6</th>\n",
       "      <td>105</td>\n",
       "      <td>NaN</td>\n",
       "      <td>54</td>\n",
       "      <td>1.6</td>\n",
       "    </tr>\n",
       "    <tr>\n",
       "      <th>7</th>\n",
       "      <td>106</td>\n",
       "      <td>5.0</td>\n",
       "      <td>49</td>\n",
       "      <td>1.5</td>\n",
       "    </tr>\n",
       "  </tbody>\n",
       "</table>\n",
       "</div>"
      ],
      "text/plain": [
       "    id    A    B    C\n",
       "0  100  1.0   45  1.2\n",
       "1  100  2.0   56  1.4\n",
       "2  101  3.0   48  1.1\n",
       "3  102  4.0   47  1.8\n",
       "4  103  5.0   62  NaN\n",
       "5  104  2.0  112  1.4\n",
       "6  105  NaN   54  1.6\n",
       "7  106  5.0   49  1.5"
      ]
     },
     "execution_count": 14,
     "metadata": {},
     "output_type": "execute_result"
    }
   ],
   "source": [
    "# try with actual data\n",
    "df = pd.DataFrame({\n",
    "   \"id\": [100, 100, 101, 102, 103, 104, 105, 106],\n",
    "   \"A\": [1, 2, 3, 4, 5, 2, np.nan, 5],\n",
    "   \"B\": [45, 56, 48, 47, 62, 112, 54, 49],\n",
    "   \"C\": [1.2, 1.4, 1.1, 1.8, np.nan, 1.4, 1.6, 1.5]\n",
    "})\n",
    "df"
   ]
  },
  {
   "cell_type": "markdown",
   "id": "d3004962",
   "metadata": {},
   "source": [
    "## Remarks\n",
    "* There are some NaNs that need to be removed/dealt with\n",
    "*  There are duplicate values in the id column\n",
    "* The value '112' in column B might be an outlier\n",
    "* To deal with each task, we need a function\n",
    "    * each function needs to take a dataframe as an argument and return a dataframe"
   ]
  },
  {
   "cell_type": "code",
   "execution_count": 5,
   "id": "8415634b",
   "metadata": {},
   "outputs": [],
   "source": [
    "## replace missing values with the mean value of the column\n",
    "def fill_missing_values(df):\n",
    "    for col in df.select_dtypes(include=[\"int\",\"float\"]).columns:\n",
    "        val = df[col].mean()\n",
    "        df[col].fillna(val, inplace=True)\n",
    "    return df"
   ]
  },
  {
   "cell_type": "code",
   "execution_count": 6,
   "id": "ed73c339",
   "metadata": {},
   "outputs": [],
   "source": [
    "# pandas has its own inbuilt drop_duplicates function, in the following function we also take column name as an arg\n",
    "def drop_duplicates(df, column_name):\n",
    "    df = df.drop_duplicates(subset=column_name)\n",
    "    return df"
   ]
  },
  {
   "cell_type": "code",
   "execution_count": 7,
   "id": "dc80e4e9",
   "metadata": {},
   "outputs": [],
   "source": [
    "def remove_outliers(df,column_list):\n",
    "    for col in column_list:\n",
    "        avg = df[col].mean()\n",
    "        std = df[col].std()\n",
    "        low = avg - 2*std             #lowerbound\n",
    "        high = avg + 2*std            #upperbound\n",
    "        df = df[df[col].between(low,high, inclusive=True)]     #only keep those in the range\n",
    "    return df"
   ]
  },
  {
   "cell_type": "code",
   "execution_count": 8,
   "id": "b3e77bb5",
   "metadata": {},
   "outputs": [],
   "source": [
    "## now apply with the pipe func\n",
    "df_processed = (df.\n",
    "                pipe(fill_missing_values).\n",
    "                pipe(drop_duplicates, \"id\").\n",
    "                pipe(remove_outliers, [\"A\",\"B\"]))"
   ]
  },
  {
   "cell_type": "markdown",
   "id": "4c064dc6",
   "metadata": {},
   "source": [
    "### Remarks\n",
    "* the pipe executes the functions in the given order\n",
    "* so we can pass the arguments to the pipe along with the function names\n",
    "* the original dataframe will be updated along the pipe\n",
    "    * to work around this, use a copy of the original df (if you want to keep the og df)\n",
    "    * otherwise just use the pipe"
   ]
  },
  {
   "cell_type": "code",
   "execution_count": 11,
   "id": "568a6559",
   "metadata": {},
   "outputs": [],
   "source": [
    "my_df = df.copy()\n",
    "df_processed = (my_df.\n",
    "                pipe(fill_missing_values).\n",
    "                pipe(drop_duplicates, \"id\").\n",
    "                pipe(remove_outliers, [\"A\",\"B\"]))"
   ]
  },
  {
   "cell_type": "code",
   "execution_count": 15,
   "id": "aa780f5e",
   "metadata": {},
   "outputs": [
    {
     "data": {
      "text/html": [
       "<div>\n",
       "<style scoped>\n",
       "    .dataframe tbody tr th:only-of-type {\n",
       "        vertical-align: middle;\n",
       "    }\n",
       "\n",
       "    .dataframe tbody tr th {\n",
       "        vertical-align: top;\n",
       "    }\n",
       "\n",
       "    .dataframe thead th {\n",
       "        text-align: right;\n",
       "    }\n",
       "</style>\n",
       "<table border=\"1\" class=\"dataframe\">\n",
       "  <thead>\n",
       "    <tr style=\"text-align: right;\">\n",
       "      <th></th>\n",
       "      <th>id</th>\n",
       "      <th>A</th>\n",
       "      <th>B</th>\n",
       "      <th>C</th>\n",
       "    </tr>\n",
       "  </thead>\n",
       "  <tbody>\n",
       "    <tr>\n",
       "      <th>0</th>\n",
       "      <td>100</td>\n",
       "      <td>1.0</td>\n",
       "      <td>45</td>\n",
       "      <td>1.2</td>\n",
       "    </tr>\n",
       "    <tr>\n",
       "      <th>1</th>\n",
       "      <td>100</td>\n",
       "      <td>2.0</td>\n",
       "      <td>56</td>\n",
       "      <td>1.4</td>\n",
       "    </tr>\n",
       "    <tr>\n",
       "      <th>2</th>\n",
       "      <td>101</td>\n",
       "      <td>3.0</td>\n",
       "      <td>48</td>\n",
       "      <td>1.1</td>\n",
       "    </tr>\n",
       "    <tr>\n",
       "      <th>3</th>\n",
       "      <td>102</td>\n",
       "      <td>4.0</td>\n",
       "      <td>47</td>\n",
       "      <td>1.8</td>\n",
       "    </tr>\n",
       "    <tr>\n",
       "      <th>4</th>\n",
       "      <td>103</td>\n",
       "      <td>5.0</td>\n",
       "      <td>62</td>\n",
       "      <td>NaN</td>\n",
       "    </tr>\n",
       "    <tr>\n",
       "      <th>5</th>\n",
       "      <td>104</td>\n",
       "      <td>2.0</td>\n",
       "      <td>112</td>\n",
       "      <td>1.4</td>\n",
       "    </tr>\n",
       "    <tr>\n",
       "      <th>6</th>\n",
       "      <td>105</td>\n",
       "      <td>NaN</td>\n",
       "      <td>54</td>\n",
       "      <td>1.6</td>\n",
       "    </tr>\n",
       "    <tr>\n",
       "      <th>7</th>\n",
       "      <td>106</td>\n",
       "      <td>5.0</td>\n",
       "      <td>49</td>\n",
       "      <td>1.5</td>\n",
       "    </tr>\n",
       "  </tbody>\n",
       "</table>\n",
       "</div>"
      ],
      "text/plain": [
       "    id    A    B    C\n",
       "0  100  1.0   45  1.2\n",
       "1  100  2.0   56  1.4\n",
       "2  101  3.0   48  1.1\n",
       "3  102  4.0   47  1.8\n",
       "4  103  5.0   62  NaN\n",
       "5  104  2.0  112  1.4\n",
       "6  105  NaN   54  1.6\n",
       "7  106  5.0   49  1.5"
      ]
     },
     "execution_count": 15,
     "metadata": {},
     "output_type": "execute_result"
    }
   ],
   "source": [
    "df"
   ]
  },
  {
   "cell_type": "code",
   "execution_count": 16,
   "id": "dd459ca0",
   "metadata": {},
   "outputs": [
    {
     "data": {
      "text/html": [
       "<div>\n",
       "<style scoped>\n",
       "    .dataframe tbody tr th:only-of-type {\n",
       "        vertical-align: middle;\n",
       "    }\n",
       "\n",
       "    .dataframe tbody tr th {\n",
       "        vertical-align: top;\n",
       "    }\n",
       "\n",
       "    .dataframe thead th {\n",
       "        text-align: right;\n",
       "    }\n",
       "</style>\n",
       "<table border=\"1\" class=\"dataframe\">\n",
       "  <thead>\n",
       "    <tr style=\"text-align: right;\">\n",
       "      <th></th>\n",
       "      <th>id</th>\n",
       "      <th>A</th>\n",
       "      <th>B</th>\n",
       "      <th>C</th>\n",
       "    </tr>\n",
       "  </thead>\n",
       "  <tbody>\n",
       "    <tr>\n",
       "      <th>0</th>\n",
       "      <td>100</td>\n",
       "      <td>1.000000</td>\n",
       "      <td>45</td>\n",
       "      <td>1.200000</td>\n",
       "    </tr>\n",
       "    <tr>\n",
       "      <th>2</th>\n",
       "      <td>101</td>\n",
       "      <td>3.000000</td>\n",
       "      <td>48</td>\n",
       "      <td>1.100000</td>\n",
       "    </tr>\n",
       "    <tr>\n",
       "      <th>3</th>\n",
       "      <td>102</td>\n",
       "      <td>4.000000</td>\n",
       "      <td>47</td>\n",
       "      <td>1.800000</td>\n",
       "    </tr>\n",
       "    <tr>\n",
       "      <th>4</th>\n",
       "      <td>103</td>\n",
       "      <td>5.000000</td>\n",
       "      <td>62</td>\n",
       "      <td>1.428571</td>\n",
       "    </tr>\n",
       "    <tr>\n",
       "      <th>6</th>\n",
       "      <td>105</td>\n",
       "      <td>3.142857</td>\n",
       "      <td>54</td>\n",
       "      <td>1.600000</td>\n",
       "    </tr>\n",
       "    <tr>\n",
       "      <th>7</th>\n",
       "      <td>106</td>\n",
       "      <td>5.000000</td>\n",
       "      <td>49</td>\n",
       "      <td>1.500000</td>\n",
       "    </tr>\n",
       "  </tbody>\n",
       "</table>\n",
       "</div>"
      ],
      "text/plain": [
       "    id         A   B         C\n",
       "0  100  1.000000  45  1.200000\n",
       "2  101  3.000000  48  1.100000\n",
       "3  102  4.000000  47  1.800000\n",
       "4  103  5.000000  62  1.428571\n",
       "6  105  3.142857  54  1.600000\n",
       "7  106  5.000000  49  1.500000"
      ]
     },
     "execution_count": 16,
     "metadata": {},
     "output_type": "execute_result"
    }
   ],
   "source": [
    "df_processed"
   ]
  },
  {
   "cell_type": "markdown",
   "id": "be599784",
   "metadata": {},
   "source": [
    "---\n",
    "## 2.Function: factorize()\n",
    "\n",
    "### What is it?\n",
    "\n",
    "* pandas alternative to sklearn's labelencoder\n",
    "```\n",
    "# mind the [0] at the end\n",
    "diamonds[\"cut_enc\"] = pd.factorize(diamonds[\"cut\"])[0]\n",
    "\n",
    "diamonds[\"cut_enc\"].sample(5)\n",
    "\n",
    "```\n",
    "\n",
    "* factorize returns a tuple of two values: the encoded column and a list of the unique categories\n",
    "\n",
    "```\n",
    "codes, unique = pd.factorize(diamonds[\"cut\"],sort=True)\n",
    "\n",
    "codes[:10]\n",
    "> array([0, 1, 3, 1, 3, 2, 2, 2, 4, 2], dtype=int64)\n",
    "\n",
    "unique\n",
    ">['Ideal', 'Premium', 'Very Good', 'Good', 'Fair']\n",
    "```"
   ]
  },
  {
   "cell_type": "markdown",
   "id": "9e722fb1",
   "metadata": {},
   "source": [
    "----\n",
    "## 3. Function: explode()"
   ]
  },
  {
   "cell_type": "code",
   "execution_count": 18,
   "id": "cb5c075d",
   "metadata": {},
   "outputs": [
    {
     "data": {
      "text/html": [
       "<div>\n",
       "<style scoped>\n",
       "    .dataframe tbody tr th:only-of-type {\n",
       "        vertical-align: middle;\n",
       "    }\n",
       "\n",
       "    .dataframe tbody tr th {\n",
       "        vertical-align: top;\n",
       "    }\n",
       "\n",
       "    .dataframe thead th {\n",
       "        text-align: right;\n",
       "    }\n",
       "</style>\n",
       "<table border=\"1\" class=\"dataframe\">\n",
       "  <thead>\n",
       "    <tr style=\"text-align: right;\">\n",
       "      <th></th>\n",
       "      <th>dirty</th>\n",
       "    </tr>\n",
       "  </thead>\n",
       "  <tbody>\n",
       "    <tr>\n",
       "      <th>0</th>\n",
       "      <td>1</td>\n",
       "    </tr>\n",
       "    <tr>\n",
       "      <th>1</th>\n",
       "      <td>6</td>\n",
       "    </tr>\n",
       "    <tr>\n",
       "      <th>2</th>\n",
       "      <td>7</td>\n",
       "    </tr>\n",
       "    <tr>\n",
       "      <th>3</th>\n",
       "      <td>[46, 56, 49]</td>\n",
       "    </tr>\n",
       "    <tr>\n",
       "      <th>4</th>\n",
       "      <td>45</td>\n",
       "    </tr>\n",
       "    <tr>\n",
       "      <th>5</th>\n",
       "      <td>[15, 10, 12]</td>\n",
       "    </tr>\n",
       "  </tbody>\n",
       "</table>\n",
       "</div>"
      ],
      "text/plain": [
       "          dirty\n",
       "0             1\n",
       "1             6\n",
       "2             7\n",
       "3  [46, 56, 49]\n",
       "4            45\n",
       "5  [15, 10, 12]"
      ]
     },
     "execution_count": 18,
     "metadata": {},
     "output_type": "execute_result"
    }
   ],
   "source": [
    "# create some data first\n",
    "data = pd.Series([1, 6, 7, [46, 56, 49], 45, [15, 10, 12]]).to_frame(\"dirty\")\n",
    "\n",
    "data"
   ]
  },
  {
   "cell_type": "markdown",
   "id": "e91ad5bb",
   "metadata": {},
   "source": [
    "####  in the dirty column, there are 2 rows where values are recorded as lists\n",
    "* let's make it more uniform"
   ]
  },
  {
   "cell_type": "code",
   "execution_count": 19,
   "id": "df2d225a",
   "metadata": {},
   "outputs": [
    {
     "data": {
      "text/html": [
       "<div>\n",
       "<style scoped>\n",
       "    .dataframe tbody tr th:only-of-type {\n",
       "        vertical-align: middle;\n",
       "    }\n",
       "\n",
       "    .dataframe tbody tr th {\n",
       "        vertical-align: top;\n",
       "    }\n",
       "\n",
       "    .dataframe thead th {\n",
       "        text-align: right;\n",
       "    }\n",
       "</style>\n",
       "<table border=\"1\" class=\"dataframe\">\n",
       "  <thead>\n",
       "    <tr style=\"text-align: right;\">\n",
       "      <th></th>\n",
       "      <th>dirty</th>\n",
       "    </tr>\n",
       "  </thead>\n",
       "  <tbody>\n",
       "    <tr>\n",
       "      <th>0</th>\n",
       "      <td>1</td>\n",
       "    </tr>\n",
       "    <tr>\n",
       "      <th>1</th>\n",
       "      <td>6</td>\n",
       "    </tr>\n",
       "    <tr>\n",
       "      <th>2</th>\n",
       "      <td>7</td>\n",
       "    </tr>\n",
       "    <tr>\n",
       "      <th>3</th>\n",
       "      <td>46</td>\n",
       "    </tr>\n",
       "    <tr>\n",
       "      <th>4</th>\n",
       "      <td>56</td>\n",
       "    </tr>\n",
       "    <tr>\n",
       "      <th>5</th>\n",
       "      <td>49</td>\n",
       "    </tr>\n",
       "    <tr>\n",
       "      <th>6</th>\n",
       "      <td>45</td>\n",
       "    </tr>\n",
       "    <tr>\n",
       "      <th>7</th>\n",
       "      <td>15</td>\n",
       "    </tr>\n",
       "    <tr>\n",
       "      <th>8</th>\n",
       "      <td>10</td>\n",
       "    </tr>\n",
       "    <tr>\n",
       "      <th>9</th>\n",
       "      <td>12</td>\n",
       "    </tr>\n",
       "  </tbody>\n",
       "</table>\n",
       "</div>"
      ],
      "text/plain": [
       "  dirty\n",
       "0     1\n",
       "1     6\n",
       "2     7\n",
       "3    46\n",
       "4    56\n",
       "5    49\n",
       "6    45\n",
       "7    15\n",
       "8    10\n",
       "9    12"
      ]
     },
     "execution_count": 19,
     "metadata": {},
     "output_type": "execute_result"
    }
   ],
   "source": [
    "data.explode(\"dirty\",ignore_index=True)"
   ]
  },
  {
   "cell_type": "markdown",
   "id": "54003eba",
   "metadata": {},
   "source": [
    "### what did explode do?\n",
    "* it takes a cell with an array-like value and explodes it into multiple rows\n",
    "* set `ignore_index` to True to keep the ordering of a numeric index"
   ]
  },
  {
   "attachments": {
    "1_j-FQi6KpQHvbRTvabnAqVQ.png": {
     "image/png": "[encoded data removed]"
    }
   },
   "cell_type": "markdown",
   "id": "835c49bb",
   "metadata": {},
   "source": [
    "---\n",
    "## 4. Squeeze\n",
    "* used in rare but annoying edge cases\n",
    "\n",
    "```\n",
    "subset = diamonds.loc[diamonds.index < 1, [\"price\"]]\n",
    "\n",
    "```\n",
    "![1_j-FQi6KpQHvbRTvabnAqVQ.png](attachment:1_j-FQi6KpQHvbRTvabnAqVQ.png)\n",
    "\n",
    "* it's only one cell but is returned as a dataframe\n",
    "    * annoying -> need to use .loc again with both column name and index\n",
    "* but with squeeze(), you can remove an axis from a single-cell dateframe or series\n",
    "    * only a scalar is returned\n",
    "    * you can also specify the axis\n",
    "\n",
    "```\n",
    "subset.squeeze(\"columns\")   # or rows\n",
    "```\n",
    "* but note that squeeze only works for dataframes/series with single values"
   ]
  },
  {
   "attachments": {
    "1_PwCzYy4sUmgZ02O50m7nYA.png": {
     "image/png": "[encoded data removed]"
    }
   },
   "cell_type": "markdown",
   "id": "04cc0690",
   "metadata": {},
   "source": [
    "---\n",
    "## 5. Between\n",
    "* function for boolean indexing numeric features within a range\n",
    "\n",
    "```\n",
    "# Get diamonds that are priced between 3500 and 3700 dollars\n",
    "diamonds[diamonds[\"price\"]\\\n",
    "      .between(3500, 3700, inclusive=\"neither\")].sample(5)\n",
    "```\n",
    "\n",
    "![1_PwCzYy4sUmgZ02O50m7nYA.png](attachment:1_PwCzYy4sUmgZ02O50m7nYA.png)\n",
    "\n"
   ]
  },
  {
   "attachments": {
    "1_qtPXjAM-odmgB3vm9C175A.png": {
     "image/png": "[encoded data removed]"
    }
   },
   "cell_type": "markdown",
   "id": "93f22bec",
   "metadata": {},
   "source": [
    "---\n",
    "## 6. T\n",
    "\n",
    "* transpose\n",
    "* useful especially when displaying dataframes of the describe method\n",
    "    ` boston.describe().T.head(10)`\n",
    "\n",
    "![1_qtPXjAM-odmgB3vm9C175A.png](attachment:1_qtPXjAM-odmgB3vm9C175A.png)\n",
    "\n",
    "* The Boston housing dataset has 30 numeric columns. \n",
    "* If you call describe as-is, the DataFrame will stretch horizontally, making it hard to compare the statistics. Taking the transpose will switch the axes so that summary statistics are given in columns."
   ]
  },
  {
   "cell_type": "markdown",
   "id": "54a63376",
   "metadata": {},
   "source": [
    "----\n",
    "## 7. Describe() method\n",
    "* is used to view some basic statistical details like percentile/mean/std etc\n",
    "* can specify the percentiles\n",
    "    * i.e. `perc = [0.20,0.40,0.60,0.80]`\n",
    "* specify the list of dtypes to include\n",
    "    * `include = ['object', 'float','int']`\n",
    "\n",
    "    `desc = data.describe(percentiles = perc, include = include)`\n",
    "### how about series of strings? "
   ]
  },
  {
   "cell_type": "code",
   "execution_count": 22,
   "id": "8989afe7",
   "metadata": {},
   "outputs": [
    {
     "data": {
      "text/plain": [
       "count                         364\n",
       "unique                        364\n",
       "top       Rondae Hollis-Jefferson\n",
       "freq                            1\n",
       "Name: Name, dtype: object"
      ]
     },
     "execution_count": 22,
     "metadata": {},
     "output_type": "execute_result"
    }
   ],
   "source": [
    "## import\n",
    "data = pd.read_csv('nba (1).csv')\n",
    "\n",
    "# removing null values to avoid errors \n",
    "data.dropna(inplace = True) \n",
    "  \n",
    "# calling describe method\n",
    "desc = data[\"Name\"].describe()\n",
    "  \n",
    "# display\n",
    "desc"
   ]
  },
  {
   "cell_type": "markdown",
   "id": "fb160181",
   "metadata": {},
   "source": [
    "## Pandas Styler"
   ]
  },
  {
   "cell_type": "code",
   "execution_count": null,
   "id": "b866a0de",
   "metadata": {},
   "outputs": [],
   "source": []
  }
 ],
 "metadata": {
  "kernelspec": {
   "display_name": "Python 3",
   "language": "python",
   "name": "python3"
  },
  "language_info": {
   "codemirror_mode": {
    "name": "ipython",
    "version": 3
   },
   "file_extension": ".py",
   "mimetype": "text/x-python",
   "name": "python",
   "nbconvert_exporter": "python",
   "pygments_lexer": "ipython3",
   "version": "3.8.8"
  }
 },
 "nbformat": 4,
 "nbformat_minor": 5
}
