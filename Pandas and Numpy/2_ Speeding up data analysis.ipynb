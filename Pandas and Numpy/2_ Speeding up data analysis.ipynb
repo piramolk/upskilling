{
 "cells": [
  {
   "cell_type": "code",
   "execution_count": 1,
   "id": "d4c6d95b",
   "metadata": {},
   "outputs": [],
   "source": [
    "# about"
   ]
  },
  {
   "cell_type": "code",
   "execution_count": null,
   "id": "d4ed397a",
   "metadata": {},
   "outputs": [],
   "source": []
  },
  {
   "cell_type": "code",
   "execution_count": 2,
   "id": "4eaf2246",
   "metadata": {},
   "outputs": [],
   "source": [
    "import pandas as pd\n",
    "import numpy as np"
   ]
  },
  {
   "cell_type": "code",
   "execution_count": null,
   "id": "f1303425",
   "metadata": {},
   "outputs": [],
   "source": []
  },
  {
   "cell_type": "markdown",
   "id": "b79cbb67",
   "metadata": {},
   "source": [
    "# 1. Convert a continuous numerical feature into a categorical feature\n",
    "* Often we have to combine/transform existing features to create a more useful one. \n",
    "* A straightforward and popular way to do this is to create a categorical feature from a continuous numerical one (i.e. binning!)\n",
    "* Example data:\n",
    "\n",
    "```\n",
    "df['Age'].head(8)\n",
    "0    22.0\n",
    "1    38.0\n",
    "2    26.0\n",
    "3    35.0\n",
    "4    35.0\n",
    "5     NaN\n",
    "6    54.0\n",
    "7     2.0\n",
    "\n",
    "```\n",
    "\n",
    "* Age is a continuous numerical attribute, but what if you want to convert it into a categorical attribute, for example, convert ages to groups of age ranges: ≤12, Teen (≤18), Adult (≤60), and Older (>60)\n",
    "* To do this, we can use the Pandas `cut()` function\n",
    "\n",
    "```\n",
    "import sys\n",
    "df['ageGroup']=pd.cut(\n",
    "    df['Age'], \n",
    "    bins=[0, 13, 19, 61, sys.maxsize], \n",
    "    labels=['<12', 'Teen', 'Adult', 'Older']\n",
    ")\n",
    "\n",
    "```\n",
    "\n",
    "* And calling head() on the ageGroup column should also display the column information.\n",
    "\n",
    "```\n",
    "df['ageGroup'].head(8)\n",
    "0    Adult\n",
    "1    Adult\n",
    "2    Adult\n",
    "3    Adult\n",
    "4    Adult\n",
    "5      NaN\n",
    "6    Adult\n",
    "7      <12\n",
    "Name: ageGroup, dtype: category\n",
    "Categories (4, object): [<12 < Teen < Adult < Older]\n",
    "\n",
    "```"
   ]
  },
  {
   "cell_type": "code",
   "execution_count": null,
   "id": "3cc0f2bc",
   "metadata": {},
   "outputs": [],
   "source": []
  },
  {
   "cell_type": "code",
   "execution_count": null,
   "id": "43285c3d",
   "metadata": {},
   "outputs": [],
   "source": []
  },
  {
   "cell_type": "code",
   "execution_count": null,
   "id": "256efa8f",
   "metadata": {},
   "outputs": [],
   "source": []
  }
 ],
 "metadata": {
  "kernelspec": {
   "display_name": "Python 3",
   "language": "python",
   "name": "python3"
  },
  "language_info": {
   "codemirror_mode": {
    "name": "ipython",
    "version": 3
   },
   "file_extension": ".py",
   "mimetype": "text/x-python",
   "name": "python",
   "nbconvert_exporter": "python",
   "pygments_lexer": "ipython3",
   "version": "3.8.8"
  }
 },
 "nbformat": 4,
 "nbformat_minor": 5
}
