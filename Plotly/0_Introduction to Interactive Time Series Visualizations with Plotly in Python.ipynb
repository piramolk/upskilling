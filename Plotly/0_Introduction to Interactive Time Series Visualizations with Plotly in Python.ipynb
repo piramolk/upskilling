{
 "cells": [
  {
   "cell_type": "code",
   "execution_count": null,
   "id": "fa60de4c",
   "metadata": {},
   "outputs": [],
   "source": []
  },
  {
   "cell_type": "code",
   "execution_count": null,
   "id": "efa63c47",
   "metadata": {},
   "outputs": [],
   "source": [
    "# import"
   ]
  },
  {
   "cell_type": "code",
   "execution_count": 2,
   "id": "5b2cdfde",
   "metadata": {},
   "outputs": [
    {
     "data": {
      "text/html": [
       "        <script type=\"text/javascript\">\n",
       "        window.PlotlyConfig = {MathJaxConfig: 'local'};\n",
       "        if (window.MathJax) {MathJax.Hub.Config({SVG: {font: \"STIX-Web\"}});}\n",
       "        if (typeof require !== 'undefined') {\n",
       "        require.undef(\"plotly\");\n",
       "        requirejs.config({\n",
       "            paths: {\n",
       "                'plotly': ['https://cdn.plot.ly/plotly-2.2.0.min']\n",
       "            }\n",
       "        });\n",
       "        require(['plotly'], function(Plotly) {\n",
       "            window._Plotly = Plotly;\n",
       "        });\n",
       "        }\n",
       "        </script>\n",
       "        "
      ]
     },
     "metadata": {},
     "output_type": "display_data"
    }
   ],
   "source": [
    "import plotly as py\n",
    "import plotly.graph_objs as go\n",
    "# Offline mode\n",
    "from plotly.offline import init_notebook_mode, iplot\n",
    "init_notebook_mode(connected=True)"
   ]
  },
  {
   "cell_type": "markdown",
   "id": "d25377d4",
   "metadata": {},
   "source": [
    "# Introduction\n",
    "\n",
    "## Benefits of Plotly\n",
    "* Plotly (the Python library) uses declarative programming which means we write code describing what we want to make rather than how to make it. \n",
    "* We provide the basic framework and end goals and let plotly figure out the implementation details. \n",
    "* In practice, this means less effort spent building up a figure, allowing us to focus on what to present and how to interpret it.\n",
    "\n",
    "## Building Energy Data\n",
    "For these plots, we will be examining building energy data. We have data for one building, with 3 different types of sensors: Energy, Steam, and Static Pressure. This dataframe has a multiindex on the columns which is a helpful way to keep track of hierarchical relationships."
   ]
  }
 ],
 "metadata": {
  "kernelspec": {
   "display_name": "Python 3",
   "language": "python",
   "name": "python3"
  },
  "language_info": {
   "codemirror_mode": {
    "name": "ipython",
    "version": 3
   },
   "file_extension": ".py",
   "mimetype": "text/x-python",
   "name": "python",
   "nbconvert_exporter": "python",
   "pygments_lexer": "ipython3",
   "version": "3.8.8"
  }
 },
 "nbformat": 4,
 "nbformat_minor": 5
}
