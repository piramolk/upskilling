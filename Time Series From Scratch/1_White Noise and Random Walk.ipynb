{
 "cells": [
  {
   "cell_type": "code",
   "execution_count": 2,
   "id": "9d98a415",
   "metadata": {},
   "outputs": [],
   "source": [
    "import pandas as pd\n",
    "import numpy as np\n"
   ]
  },
  {
   "cell_type": "markdown",
   "id": "e6f52554",
   "metadata": {},
   "source": [
    "# So when do we forecast time series data?\n",
    "* Generally if it DOESN'T look like white noise or random walk, YES\n",
    "* if it DOES look like WN/RW,it's just not worth it\n",
    "\n",
    "# Structure of notebook\n",
    "\n",
    "* White Noise: Theory and Implementation\n",
    "* Random Walk: Theory and Implementation\n",
    "* Conclusion\n",
    "\n",
    "# 1. White Noise\n",
    "\n",
    "## 1.1 Theory\n",
    "\n",
    "* essentially  a sequence of random numbers\n",
    "    * like random distortions\n",
    "* in model building, we look at the residuals --the difference between the predicted and actual--\n",
    "    * if the residuals look like white noise, that's a good thing!\n",
    "        * random fluctuations are often out of our control and beyond the scope of most models\n",
    "    * when the residuals have patterns to it -> we need to do more work\n",
    "    \n",
    "### When do we classify a time series as white noise?\n",
    "* It must satisfy these conditions\n",
    "    * the average value/mean is zero\n",
    "        * the fluctuations more or less even out/sum to 0\n",
    "    * standard deviation is constant - it doesn't change over time\n",
    "    * the correlation between time series and its lagged ersion is not signficant\n",
    "        * done by investigating correlation between current time series and same times series shifted by N periods\n",
    "### How do we test if a time series resembles white noise?\n",
    "* Plot the times series\n",
    "* Compare the mean and standard deviation over time\n",
    "* Examine autocorrelation plots"
   ]
  },
  {
   "cell_type": "code",
   "execution_count": null,
   "id": "dea3cd53",
   "metadata": {},
   "outputs": [],
   "source": []
  },
  {
   "cell_type": "code",
   "execution_count": null,
   "id": "acee3110",
   "metadata": {},
   "outputs": [],
   "source": []
  },
  {
   "cell_type": "code",
   "execution_count": null,
   "id": "f3e1e234",
   "metadata": {},
   "outputs": [],
   "source": []
  },
  {
   "cell_type": "code",
   "execution_count": null,
   "id": "f5f85b63",
   "metadata": {},
   "outputs": [],
   "source": []
  },
  {
   "cell_type": "code",
   "execution_count": null,
   "id": "3024dd06",
   "metadata": {},
   "outputs": [],
   "source": []
  }
 ],
 "metadata": {
  "kernelspec": {
   "display_name": "Python 3",
   "language": "python",
   "name": "python3"
  },
  "language_info": {
   "codemirror_mode": {
    "name": "ipython",
    "version": 3
   },
   "file_extension": ".py",
   "mimetype": "text/x-python",
   "name": "python",
   "nbconvert_exporter": "python",
   "pygments_lexer": "ipython3",
   "version": "3.8.8"
  }
 },
 "nbformat": 4,
 "nbformat_minor": 5
}
